{
 "cells": [
  {
   "cell_type": "code",
   "execution_count": 1,
   "metadata": {},
   "outputs": [],
   "source": [
    "import numpy as np\n",
    "import pandas as pd\n",
    "import datetime\n",
    "\n",
    "import matplotlib.pyplot as plt\n",
    "import warnings\n",
    "\n",
    "warnings.filterwarnings('ignore')\n",
    "\n"
   ]
  },
  {
   "cell_type": "markdown",
   "metadata": {},
   "source": [
    "# 1. Датасет + Первичный анализ данных\n",
    "* В своем проекте я буду исследовать данные по распространению Covid-19 в первую волну в России.\n",
    "* Датасет я взял отсюда: https://www.kaggle.com/kapral42/covid19-russia-regions-cases?select=covid19-russia-cases-scrf.csv\n",
    "* Данные есть с начала марта по конец июля 2020 года.\n"
   ]
  },
  {
   "cell_type": "markdown",
   "metadata": {},
   "source": [
    "**Данные брались из официального источника по заболеваемости Covid-19: https://rospotrebnadzor.ru/about/info/news/**\n",
    "\n",
    "**Описание данных:**\n",
    "* 1) Date - дата\n",
    "* 2) Region/City - Название города или региона РФ\n",
    "* 3) Region/City-ENG - Название города или региона РФ на английском языке\n",
    "* 4) Region_ID - уникальный идентефикатор региона\n",
    "* 5) Day-Confirmed - количество подвержденных случаев в данный день\n",
    "* 6) Day-Deaths - количество смертей в данный день\n",
    "* 7) Day-Recovered - количество выздоравлений в данный день\n",
    "* 8) Day-Confirmed - общее количество подвержденных случаев на данный день\n",
    "* 9) Day-Deaths - общее количество смертей на данный день\n",
    "* 10) Day-Recovered - общее количество выздоравлений на данный день"
   ]
  },
  {
   "cell_type": "markdown",
   "metadata": {},
   "source": [
    "**Цель проекта:** \n",
    "\n",
    "* Изучить процесс распространения вирусы в первую волну пандемии в России\n",
    "\n",
    "* Сравнить распространение инфекции в разные месяцы первой волны пандемии в России\n",
    "\n",
    "* Сравнить распространение инфекции в Москве и в регионах\n"
   ]
  },
  {
   "cell_type": "code",
   "execution_count": 2,
   "metadata": {
    "scrolled": true
   },
   "outputs": [
    {
     "data": {
      "text/html": [
       "<div>\n",
       "<style scoped>\n",
       "    .dataframe tbody tr th:only-of-type {\n",
       "        vertical-align: middle;\n",
       "    }\n",
       "\n",
       "    .dataframe tbody tr th {\n",
       "        vertical-align: top;\n",
       "    }\n",
       "\n",
       "    .dataframe thead th {\n",
       "        text-align: right;\n",
       "    }\n",
       "</style>\n",
       "<table border=\"1\" class=\"dataframe\">\n",
       "  <thead>\n",
       "    <tr style=\"text-align: right;\">\n",
       "      <th></th>\n",
       "      <th>Date</th>\n",
       "      <th>Region/City</th>\n",
       "      <th>Region/City-Eng</th>\n",
       "      <th>Region_ID</th>\n",
       "      <th>Day-Confirmed</th>\n",
       "      <th>Day-Deaths</th>\n",
       "      <th>Day-Recovered</th>\n",
       "      <th>Confirmed</th>\n",
       "      <th>Deaths</th>\n",
       "      <th>Recovered</th>\n",
       "    </tr>\n",
       "  </thead>\n",
       "  <tbody>\n",
       "    <tr>\n",
       "      <th>0</th>\n",
       "      <td>2020-03-02</td>\n",
       "      <td>Московская область</td>\n",
       "      <td>Moscow region</td>\n",
       "      <td>50.0</td>\n",
       "      <td>1.0</td>\n",
       "      <td>0.0</td>\n",
       "      <td>0.0</td>\n",
       "      <td>1.0</td>\n",
       "      <td>0.0</td>\n",
       "      <td>0.0</td>\n",
       "    </tr>\n",
       "    <tr>\n",
       "      <th>1</th>\n",
       "      <td>2020-03-03</td>\n",
       "      <td>Московская область</td>\n",
       "      <td>Moscow region</td>\n",
       "      <td>50.0</td>\n",
       "      <td>0.0</td>\n",
       "      <td>0.0</td>\n",
       "      <td>0.0</td>\n",
       "      <td>1.0</td>\n",
       "      <td>0.0</td>\n",
       "      <td>0.0</td>\n",
       "    </tr>\n",
       "    <tr>\n",
       "      <th>2</th>\n",
       "      <td>2020-03-04</td>\n",
       "      <td>Московская область</td>\n",
       "      <td>Moscow region</td>\n",
       "      <td>50.0</td>\n",
       "      <td>0.0</td>\n",
       "      <td>0.0</td>\n",
       "      <td>0.0</td>\n",
       "      <td>1.0</td>\n",
       "      <td>0.0</td>\n",
       "      <td>0.0</td>\n",
       "    </tr>\n",
       "    <tr>\n",
       "      <th>3</th>\n",
       "      <td>2020-03-05</td>\n",
       "      <td>Московская область</td>\n",
       "      <td>Moscow region</td>\n",
       "      <td>50.0</td>\n",
       "      <td>0.0</td>\n",
       "      <td>0.0</td>\n",
       "      <td>0.0</td>\n",
       "      <td>1.0</td>\n",
       "      <td>0.0</td>\n",
       "      <td>0.0</td>\n",
       "    </tr>\n",
       "    <tr>\n",
       "      <th>4</th>\n",
       "      <td>2020-03-06</td>\n",
       "      <td>Москва</td>\n",
       "      <td>Moscow</td>\n",
       "      <td>77.0</td>\n",
       "      <td>5.0</td>\n",
       "      <td>0.0</td>\n",
       "      <td>0.0</td>\n",
       "      <td>5.0</td>\n",
       "      <td>0.0</td>\n",
       "      <td>0.0</td>\n",
       "    </tr>\n",
       "    <tr>\n",
       "      <th>...</th>\n",
       "      <td>...</td>\n",
       "      <td>...</td>\n",
       "      <td>...</td>\n",
       "      <td>...</td>\n",
       "      <td>...</td>\n",
       "      <td>...</td>\n",
       "      <td>...</td>\n",
       "      <td>...</td>\n",
       "      <td>...</td>\n",
       "      <td>...</td>\n",
       "    </tr>\n",
       "    <tr>\n",
       "      <th>12049</th>\n",
       "      <td>2020-07-31</td>\n",
       "      <td>Ханты-Мансийский АО</td>\n",
       "      <td>Khanty-Mansiysk</td>\n",
       "      <td>86.0</td>\n",
       "      <td>171.0</td>\n",
       "      <td>0.0</td>\n",
       "      <td>338.0</td>\n",
       "      <td>16333.0</td>\n",
       "      <td>128.0</td>\n",
       "      <td>12790.0</td>\n",
       "    </tr>\n",
       "    <tr>\n",
       "      <th>12050</th>\n",
       "      <td>2020-07-31</td>\n",
       "      <td>Челябинская область</td>\n",
       "      <td>Chelyabinsk region</td>\n",
       "      <td>74.0</td>\n",
       "      <td>117.0</td>\n",
       "      <td>1.0</td>\n",
       "      <td>251.0</td>\n",
       "      <td>11197.0</td>\n",
       "      <td>93.0</td>\n",
       "      <td>6686.0</td>\n",
       "    </tr>\n",
       "    <tr>\n",
       "      <th>12051</th>\n",
       "      <td>2020-07-31</td>\n",
       "      <td>Чеченская Республика</td>\n",
       "      <td>Chechen Republic</td>\n",
       "      <td>95.0</td>\n",
       "      <td>14.0</td>\n",
       "      <td>0.0</td>\n",
       "      <td>6.0</td>\n",
       "      <td>2060.0</td>\n",
       "      <td>32.0</td>\n",
       "      <td>1363.0</td>\n",
       "    </tr>\n",
       "    <tr>\n",
       "      <th>12052</th>\n",
       "      <td>2020-07-31</td>\n",
       "      <td>Ямало-Ненецкий АО</td>\n",
       "      <td>Yamalo-Nenets Autonomous Okrug</td>\n",
       "      <td>89.0</td>\n",
       "      <td>112.0</td>\n",
       "      <td>0.0</td>\n",
       "      <td>392.0</td>\n",
       "      <td>11016.0</td>\n",
       "      <td>77.0</td>\n",
       "      <td>8023.0</td>\n",
       "    </tr>\n",
       "    <tr>\n",
       "      <th>12053</th>\n",
       "      <td>2020-07-31</td>\n",
       "      <td>Ярославская область</td>\n",
       "      <td>Yaroslavl region</td>\n",
       "      <td>76.0</td>\n",
       "      <td>38.0</td>\n",
       "      <td>1.0</td>\n",
       "      <td>45.0</td>\n",
       "      <td>6034.0</td>\n",
       "      <td>29.0</td>\n",
       "      <td>5344.0</td>\n",
       "    </tr>\n",
       "  </tbody>\n",
       "</table>\n",
       "<p>12054 rows × 10 columns</p>\n",
       "</div>"
      ],
      "text/plain": [
       "             Date           Region/City                 Region/City-Eng  \\\n",
       "0      2020-03-02    Московская область                   Moscow region   \n",
       "1      2020-03-03    Московская область                   Moscow region   \n",
       "2      2020-03-04    Московская область                   Moscow region   \n",
       "3      2020-03-05    Московская область                   Moscow region   \n",
       "4      2020-03-06                Москва                          Moscow   \n",
       "...           ...                   ...                             ...   \n",
       "12049  2020-07-31   Ханты-Мансийский АО                 Khanty-Mansiysk   \n",
       "12050  2020-07-31   Челябинская область              Chelyabinsk region   \n",
       "12051  2020-07-31  Чеченская Республика                Chechen Republic   \n",
       "12052  2020-07-31     Ямало-Ненецкий АО  Yamalo-Nenets Autonomous Okrug   \n",
       "12053  2020-07-31   Ярославская область                Yaroslavl region   \n",
       "\n",
       "       Region_ID  Day-Confirmed  Day-Deaths  Day-Recovered  Confirmed  Deaths  \\\n",
       "0           50.0            1.0         0.0            0.0        1.0     0.0   \n",
       "1           50.0            0.0         0.0            0.0        1.0     0.0   \n",
       "2           50.0            0.0         0.0            0.0        1.0     0.0   \n",
       "3           50.0            0.0         0.0            0.0        1.0     0.0   \n",
       "4           77.0            5.0         0.0            0.0        5.0     0.0   \n",
       "...          ...            ...         ...            ...        ...     ...   \n",
       "12049       86.0          171.0         0.0          338.0    16333.0   128.0   \n",
       "12050       74.0          117.0         1.0          251.0    11197.0    93.0   \n",
       "12051       95.0           14.0         0.0            6.0     2060.0    32.0   \n",
       "12052       89.0          112.0         0.0          392.0    11016.0    77.0   \n",
       "12053       76.0           38.0         1.0           45.0     6034.0    29.0   \n",
       "\n",
       "       Recovered  \n",
       "0            0.0  \n",
       "1            0.0  \n",
       "2            0.0  \n",
       "3            0.0  \n",
       "4            0.0  \n",
       "...          ...  \n",
       "12049    12790.0  \n",
       "12050     6686.0  \n",
       "12051     1363.0  \n",
       "12052     8023.0  \n",
       "12053     5344.0  \n",
       "\n",
       "[12054 rows x 10 columns]"
      ]
     },
     "execution_count": 2,
     "metadata": {},
     "output_type": "execute_result"
    }
   ],
   "source": [
    "data = pd.read_csv('covid19-russia-cases-scrf.csv')\n",
    "data"
   ]
  },
  {
   "cell_type": "markdown",
   "metadata": {},
   "source": [
    "# 2. Предобработка данных "
   ]
  },
  {
   "cell_type": "markdown",
   "metadata": {},
   "source": [
    "**Для начала создадим 2 таблицы - таблица со статистикой по Москве и таблица со статистикой по остальным регионам.**\n",
    "\n",
    "**Так как в исследовании важен процесс распространения вируса, то нам нужны всего четыре поля:**\n",
    "* 1) Date - дата\n",
    "* 2) Day-Confirmed - количество подвержденных случаев в данный день\n",
    "* 3) Day-Deaths - количество смертей в данный день\n",
    "* 4) Day-Recovered - количество выздоравлений в данный день"
   ]
  },
  {
   "cell_type": "code",
   "execution_count": 3,
   "metadata": {},
   "outputs": [
    {
     "data": {
      "text/html": [
       "<div>\n",
       "<style scoped>\n",
       "    .dataframe tbody tr th:only-of-type {\n",
       "        vertical-align: middle;\n",
       "    }\n",
       "\n",
       "    .dataframe tbody tr th {\n",
       "        vertical-align: top;\n",
       "    }\n",
       "\n",
       "    .dataframe thead th {\n",
       "        text-align: right;\n",
       "    }\n",
       "</style>\n",
       "<table border=\"1\" class=\"dataframe\">\n",
       "  <thead>\n",
       "    <tr style=\"text-align: right;\">\n",
       "      <th></th>\n",
       "      <th>Date</th>\n",
       "      <th>Day-Confirmed</th>\n",
       "      <th>Day-Deaths</th>\n",
       "      <th>Day-Recovered</th>\n",
       "    </tr>\n",
       "  </thead>\n",
       "  <tbody>\n",
       "    <tr>\n",
       "      <th>4</th>\n",
       "      <td>2020-03-06</td>\n",
       "      <td>5.0</td>\n",
       "      <td>0.0</td>\n",
       "      <td>0.0</td>\n",
       "    </tr>\n",
       "    <tr>\n",
       "      <th>8</th>\n",
       "      <td>2020-03-07</td>\n",
       "      <td>0.0</td>\n",
       "      <td>0.0</td>\n",
       "      <td>0.0</td>\n",
       "    </tr>\n",
       "    <tr>\n",
       "      <th>15</th>\n",
       "      <td>2020-03-08</td>\n",
       "      <td>0.0</td>\n",
       "      <td>0.0</td>\n",
       "      <td>0.0</td>\n",
       "    </tr>\n",
       "    <tr>\n",
       "      <th>22</th>\n",
       "      <td>2020-03-09</td>\n",
       "      <td>3.0</td>\n",
       "      <td>0.0</td>\n",
       "      <td>0.0</td>\n",
       "    </tr>\n",
       "    <tr>\n",
       "      <th>29</th>\n",
       "      <td>2020-03-10</td>\n",
       "      <td>3.0</td>\n",
       "      <td>0.0</td>\n",
       "      <td>0.0</td>\n",
       "    </tr>\n",
       "    <tr>\n",
       "      <th>...</th>\n",
       "      <td>...</td>\n",
       "      <td>...</td>\n",
       "      <td>...</td>\n",
       "      <td>...</td>\n",
       "    </tr>\n",
       "    <tr>\n",
       "      <th>11662</th>\n",
       "      <td>2020-07-27</td>\n",
       "      <td>694.0</td>\n",
       "      <td>13.0</td>\n",
       "      <td>264.0</td>\n",
       "    </tr>\n",
       "    <tr>\n",
       "      <th>11746</th>\n",
       "      <td>2020-07-28</td>\n",
       "      <td>674.0</td>\n",
       "      <td>10.0</td>\n",
       "      <td>827.0</td>\n",
       "    </tr>\n",
       "    <tr>\n",
       "      <th>11830</th>\n",
       "      <td>2020-07-29</td>\n",
       "      <td>671.0</td>\n",
       "      <td>13.0</td>\n",
       "      <td>625.0</td>\n",
       "    </tr>\n",
       "    <tr>\n",
       "      <th>11915</th>\n",
       "      <td>2020-07-30</td>\n",
       "      <td>678.0</td>\n",
       "      <td>12.0</td>\n",
       "      <td>1471.0</td>\n",
       "    </tr>\n",
       "    <tr>\n",
       "      <th>11999</th>\n",
       "      <td>2020-07-31</td>\n",
       "      <td>695.0</td>\n",
       "      <td>14.0</td>\n",
       "      <td>1260.0</td>\n",
       "    </tr>\n",
       "  </tbody>\n",
       "</table>\n",
       "<p>148 rows × 4 columns</p>\n",
       "</div>"
      ],
      "text/plain": [
       "             Date  Day-Confirmed  Day-Deaths  Day-Recovered\n",
       "4      2020-03-06            5.0         0.0            0.0\n",
       "8      2020-03-07            0.0         0.0            0.0\n",
       "15     2020-03-08            0.0         0.0            0.0\n",
       "22     2020-03-09            3.0         0.0            0.0\n",
       "29     2020-03-10            3.0         0.0            0.0\n",
       "...           ...            ...         ...            ...\n",
       "11662  2020-07-27          694.0        13.0          264.0\n",
       "11746  2020-07-28          674.0        10.0          827.0\n",
       "11830  2020-07-29          671.0        13.0          625.0\n",
       "11915  2020-07-30          678.0        12.0         1471.0\n",
       "11999  2020-07-31          695.0        14.0         1260.0\n",
       "\n",
       "[148 rows x 4 columns]"
      ]
     },
     "execution_count": 3,
     "metadata": {},
     "output_type": "execute_result"
    }
   ],
   "source": [
    "moscow_data = data[data['Region_ID'] == 77]\n",
    "moscow_data = moscow_data.drop(['Region/City','Region/City-Eng','Region_ID','Confirmed','Deaths','Recovered'], axis = 1)\n",
    "moscow_data"
   ]
  },
  {
   "cell_type": "code",
   "execution_count": 4,
   "metadata": {},
   "outputs": [
    {
     "data": {
      "text/html": [
       "<div>\n",
       "<style scoped>\n",
       "    .dataframe tbody tr th:only-of-type {\n",
       "        vertical-align: middle;\n",
       "    }\n",
       "\n",
       "    .dataframe tbody tr th {\n",
       "        vertical-align: top;\n",
       "    }\n",
       "\n",
       "    .dataframe thead th {\n",
       "        text-align: right;\n",
       "    }\n",
       "</style>\n",
       "<table border=\"1\" class=\"dataframe\">\n",
       "  <thead>\n",
       "    <tr style=\"text-align: right;\">\n",
       "      <th></th>\n",
       "      <th>Day-Confirmed</th>\n",
       "      <th>Day-Deaths</th>\n",
       "      <th>Day-Recovered</th>\n",
       "    </tr>\n",
       "    <tr>\n",
       "      <th>Date</th>\n",
       "      <th></th>\n",
       "      <th></th>\n",
       "      <th></th>\n",
       "    </tr>\n",
       "  </thead>\n",
       "  <tbody>\n",
       "    <tr>\n",
       "      <th>2020-03-02</th>\n",
       "      <td>1.0</td>\n",
       "      <td>0.0</td>\n",
       "      <td>0.0</td>\n",
       "    </tr>\n",
       "    <tr>\n",
       "      <th>2020-03-03</th>\n",
       "      <td>0.0</td>\n",
       "      <td>0.0</td>\n",
       "      <td>0.0</td>\n",
       "    </tr>\n",
       "    <tr>\n",
       "      <th>2020-03-04</th>\n",
       "      <td>0.0</td>\n",
       "      <td>0.0</td>\n",
       "      <td>0.0</td>\n",
       "    </tr>\n",
       "    <tr>\n",
       "      <th>2020-03-05</th>\n",
       "      <td>0.0</td>\n",
       "      <td>0.0</td>\n",
       "      <td>0.0</td>\n",
       "    </tr>\n",
       "    <tr>\n",
       "      <th>2020-03-06</th>\n",
       "      <td>1.0</td>\n",
       "      <td>0.0</td>\n",
       "      <td>0.0</td>\n",
       "    </tr>\n",
       "    <tr>\n",
       "      <th>...</th>\n",
       "      <td>...</td>\n",
       "      <td>...</td>\n",
       "      <td>...</td>\n",
       "    </tr>\n",
       "    <tr>\n",
       "      <th>2020-07-27</th>\n",
       "      <td>4941.0</td>\n",
       "      <td>72.0</td>\n",
       "      <td>2799.0</td>\n",
       "    </tr>\n",
       "    <tr>\n",
       "      <th>2020-07-28</th>\n",
       "      <td>4721.0</td>\n",
       "      <td>140.0</td>\n",
       "      <td>8042.0</td>\n",
       "    </tr>\n",
       "    <tr>\n",
       "      <th>2020-07-29</th>\n",
       "      <td>4804.0</td>\n",
       "      <td>156.0</td>\n",
       "      <td>7444.0</td>\n",
       "    </tr>\n",
       "    <tr>\n",
       "      <th>2020-07-30</th>\n",
       "      <td>4831.0</td>\n",
       "      <td>117.0</td>\n",
       "      <td>7839.0</td>\n",
       "    </tr>\n",
       "    <tr>\n",
       "      <th>2020-07-31</th>\n",
       "      <td>4787.0</td>\n",
       "      <td>147.0</td>\n",
       "      <td>7487.0</td>\n",
       "    </tr>\n",
       "  </tbody>\n",
       "</table>\n",
       "<p>152 rows × 3 columns</p>\n",
       "</div>"
      ],
      "text/plain": [
       "            Day-Confirmed  Day-Deaths  Day-Recovered\n",
       "Date                                                \n",
       "2020-03-02            1.0         0.0            0.0\n",
       "2020-03-03            0.0         0.0            0.0\n",
       "2020-03-04            0.0         0.0            0.0\n",
       "2020-03-05            0.0         0.0            0.0\n",
       "2020-03-06            1.0         0.0            0.0\n",
       "...                   ...         ...            ...\n",
       "2020-07-27         4941.0        72.0         2799.0\n",
       "2020-07-28         4721.0       140.0         8042.0\n",
       "2020-07-29         4804.0       156.0         7444.0\n",
       "2020-07-30         4831.0       117.0         7839.0\n",
       "2020-07-31         4787.0       147.0         7487.0\n",
       "\n",
       "[152 rows x 3 columns]"
      ]
     },
     "execution_count": 4,
     "metadata": {},
     "output_type": "execute_result"
    }
   ],
   "source": [
    "region_data = data[data['Region_ID'] != 77]\n",
    "region_data = region_data.drop(['Region/City','Region/City-Eng','Region_ID','Confirmed','Deaths','Recovered'], axis = 1)\n",
    "region_data = region_data.groupby('Date').sum()\n",
    "region_data"
   ]
  },
  {
   "cell_type": "markdown",
   "metadata": {},
   "source": [
    "**Заметим, что по регионам у нас есть данные со 2 марта, а по Москве - с 6 марта. При этом в дни со 2 по 5 мая в в регионах был выявлен всего один случай Covid-19. Поэтому из таблицы можно удалить данные по этим дням**"
   ]
  },
  {
   "cell_type": "code",
   "execution_count": 5,
   "metadata": {},
   "outputs": [
    {
     "data": {
      "text/html": [
       "<div>\n",
       "<style scoped>\n",
       "    .dataframe tbody tr th:only-of-type {\n",
       "        vertical-align: middle;\n",
       "    }\n",
       "\n",
       "    .dataframe tbody tr th {\n",
       "        vertical-align: top;\n",
       "    }\n",
       "\n",
       "    .dataframe thead th {\n",
       "        text-align: right;\n",
       "    }\n",
       "</style>\n",
       "<table border=\"1\" class=\"dataframe\">\n",
       "  <thead>\n",
       "    <tr style=\"text-align: right;\">\n",
       "      <th></th>\n",
       "      <th>Day-Confirmed</th>\n",
       "      <th>Day-Deaths</th>\n",
       "      <th>Day-Recovered</th>\n",
       "    </tr>\n",
       "    <tr>\n",
       "      <th>Date</th>\n",
       "      <th></th>\n",
       "      <th></th>\n",
       "      <th></th>\n",
       "    </tr>\n",
       "  </thead>\n",
       "  <tbody>\n",
       "    <tr>\n",
       "      <th>2020-03-06</th>\n",
       "      <td>1.0</td>\n",
       "      <td>0.0</td>\n",
       "      <td>0.0</td>\n",
       "    </tr>\n",
       "    <tr>\n",
       "      <th>2020-03-07</th>\n",
       "      <td>4.0</td>\n",
       "      <td>0.0</td>\n",
       "      <td>0.0</td>\n",
       "    </tr>\n",
       "    <tr>\n",
       "      <th>2020-03-08</th>\n",
       "      <td>3.0</td>\n",
       "      <td>0.0</td>\n",
       "      <td>0.0</td>\n",
       "    </tr>\n",
       "    <tr>\n",
       "      <th>2020-03-09</th>\n",
       "      <td>0.0</td>\n",
       "      <td>0.0</td>\n",
       "      <td>0.0</td>\n",
       "    </tr>\n",
       "    <tr>\n",
       "      <th>2020-03-10</th>\n",
       "      <td>0.0</td>\n",
       "      <td>0.0</td>\n",
       "      <td>0.0</td>\n",
       "    </tr>\n",
       "    <tr>\n",
       "      <th>...</th>\n",
       "      <td>...</td>\n",
       "      <td>...</td>\n",
       "      <td>...</td>\n",
       "    </tr>\n",
       "    <tr>\n",
       "      <th>2020-07-27</th>\n",
       "      <td>4941.0</td>\n",
       "      <td>72.0</td>\n",
       "      <td>2799.0</td>\n",
       "    </tr>\n",
       "    <tr>\n",
       "      <th>2020-07-28</th>\n",
       "      <td>4721.0</td>\n",
       "      <td>140.0</td>\n",
       "      <td>8042.0</td>\n",
       "    </tr>\n",
       "    <tr>\n",
       "      <th>2020-07-29</th>\n",
       "      <td>4804.0</td>\n",
       "      <td>156.0</td>\n",
       "      <td>7444.0</td>\n",
       "    </tr>\n",
       "    <tr>\n",
       "      <th>2020-07-30</th>\n",
       "      <td>4831.0</td>\n",
       "      <td>117.0</td>\n",
       "      <td>7839.0</td>\n",
       "    </tr>\n",
       "    <tr>\n",
       "      <th>2020-07-31</th>\n",
       "      <td>4787.0</td>\n",
       "      <td>147.0</td>\n",
       "      <td>7487.0</td>\n",
       "    </tr>\n",
       "  </tbody>\n",
       "</table>\n",
       "<p>148 rows × 3 columns</p>\n",
       "</div>"
      ],
      "text/plain": [
       "            Day-Confirmed  Day-Deaths  Day-Recovered\n",
       "Date                                                \n",
       "2020-03-06            1.0         0.0            0.0\n",
       "2020-03-07            4.0         0.0            0.0\n",
       "2020-03-08            3.0         0.0            0.0\n",
       "2020-03-09            0.0         0.0            0.0\n",
       "2020-03-10            0.0         0.0            0.0\n",
       "...                   ...         ...            ...\n",
       "2020-07-27         4941.0        72.0         2799.0\n",
       "2020-07-28         4721.0       140.0         8042.0\n",
       "2020-07-29         4804.0       156.0         7444.0\n",
       "2020-07-30         4831.0       117.0         7839.0\n",
       "2020-07-31         4787.0       147.0         7487.0\n",
       "\n",
       "[148 rows x 3 columns]"
      ]
     },
     "execution_count": 5,
     "metadata": {},
     "output_type": "execute_result"
    }
   ],
   "source": [
    "region_data = region_data.iloc[4::]\n",
    "region_data"
   ]
  },
  {
   "cell_type": "markdown",
   "metadata": {},
   "source": [
    "**Итак, получили таблицы, на основе которых будем далее проводить сравнение пандемии в Москве и регионах. Также, нам будут нужна таблица со статистикой по всей России**"
   ]
  },
  {
   "cell_type": "code",
   "execution_count": 6,
   "metadata": {},
   "outputs": [
    {
     "data": {
      "text/html": [
       "<div>\n",
       "<style scoped>\n",
       "    .dataframe tbody tr th:only-of-type {\n",
       "        vertical-align: middle;\n",
       "    }\n",
       "\n",
       "    .dataframe tbody tr th {\n",
       "        vertical-align: top;\n",
       "    }\n",
       "\n",
       "    .dataframe thead th {\n",
       "        text-align: right;\n",
       "    }\n",
       "</style>\n",
       "<table border=\"1\" class=\"dataframe\">\n",
       "  <thead>\n",
       "    <tr style=\"text-align: right;\">\n",
       "      <th></th>\n",
       "      <th>Day-Confirmed</th>\n",
       "      <th>Day-Deaths</th>\n",
       "      <th>Day-Recovered</th>\n",
       "    </tr>\n",
       "    <tr>\n",
       "      <th>Date</th>\n",
       "      <th></th>\n",
       "      <th></th>\n",
       "      <th></th>\n",
       "    </tr>\n",
       "  </thead>\n",
       "  <tbody>\n",
       "    <tr>\n",
       "      <th>2020-03-06</th>\n",
       "      <td>6.0</td>\n",
       "      <td>0.0</td>\n",
       "      <td>0.0</td>\n",
       "    </tr>\n",
       "    <tr>\n",
       "      <th>2020-03-07</th>\n",
       "      <td>4.0</td>\n",
       "      <td>0.0</td>\n",
       "      <td>0.0</td>\n",
       "    </tr>\n",
       "    <tr>\n",
       "      <th>2020-03-08</th>\n",
       "      <td>3.0</td>\n",
       "      <td>0.0</td>\n",
       "      <td>0.0</td>\n",
       "    </tr>\n",
       "    <tr>\n",
       "      <th>2020-03-09</th>\n",
       "      <td>3.0</td>\n",
       "      <td>0.0</td>\n",
       "      <td>0.0</td>\n",
       "    </tr>\n",
       "    <tr>\n",
       "      <th>2020-03-10</th>\n",
       "      <td>3.0</td>\n",
       "      <td>0.0</td>\n",
       "      <td>0.0</td>\n",
       "    </tr>\n",
       "    <tr>\n",
       "      <th>...</th>\n",
       "      <td>...</td>\n",
       "      <td>...</td>\n",
       "      <td>...</td>\n",
       "    </tr>\n",
       "    <tr>\n",
       "      <th>2020-07-27</th>\n",
       "      <td>5635.0</td>\n",
       "      <td>85.0</td>\n",
       "      <td>3063.0</td>\n",
       "    </tr>\n",
       "    <tr>\n",
       "      <th>2020-07-28</th>\n",
       "      <td>5395.0</td>\n",
       "      <td>150.0</td>\n",
       "      <td>8869.0</td>\n",
       "    </tr>\n",
       "    <tr>\n",
       "      <th>2020-07-29</th>\n",
       "      <td>5475.0</td>\n",
       "      <td>169.0</td>\n",
       "      <td>8069.0</td>\n",
       "    </tr>\n",
       "    <tr>\n",
       "      <th>2020-07-30</th>\n",
       "      <td>5509.0</td>\n",
       "      <td>129.0</td>\n",
       "      <td>9310.0</td>\n",
       "    </tr>\n",
       "    <tr>\n",
       "      <th>2020-07-31</th>\n",
       "      <td>5482.0</td>\n",
       "      <td>161.0</td>\n",
       "      <td>8747.0</td>\n",
       "    </tr>\n",
       "  </tbody>\n",
       "</table>\n",
       "<p>148 rows × 3 columns</p>\n",
       "</div>"
      ],
      "text/plain": [
       "            Day-Confirmed  Day-Deaths  Day-Recovered\n",
       "Date                                                \n",
       "2020-03-06            6.0         0.0            0.0\n",
       "2020-03-07            4.0         0.0            0.0\n",
       "2020-03-08            3.0         0.0            0.0\n",
       "2020-03-09            3.0         0.0            0.0\n",
       "2020-03-10            3.0         0.0            0.0\n",
       "...                   ...         ...            ...\n",
       "2020-07-27         5635.0        85.0         3063.0\n",
       "2020-07-28         5395.0       150.0         8869.0\n",
       "2020-07-29         5475.0       169.0         8069.0\n",
       "2020-07-30         5509.0       129.0         9310.0\n",
       "2020-07-31         5482.0       161.0         8747.0\n",
       "\n",
       "[148 rows x 3 columns]"
      ]
     },
     "execution_count": 6,
     "metadata": {},
     "output_type": "execute_result"
    }
   ],
   "source": [
    "russia_data = data.drop(['Region/City','Region/City-Eng','Region_ID','Confirmed','Deaths','Recovered'], axis = 1)\n",
    "russia_data = russia_data.groupby('Date').sum()\n",
    "russia_data = russia_data.iloc[4::]\n",
    "russia_data"
   ]
  },
  {
   "cell_type": "markdown",
   "metadata": {},
   "source": [
    "**На данный момент даты представляют из себя строки, а также являются индексом в таблицах. Исправим это, а также добавим поле месяц.**"
   ]
  },
  {
   "cell_type": "code",
   "execution_count": 7,
   "metadata": {},
   "outputs": [
    {
     "data": {
      "text/html": [
       "<div>\n",
       "<style scoped>\n",
       "    .dataframe tbody tr th:only-of-type {\n",
       "        vertical-align: middle;\n",
       "    }\n",
       "\n",
       "    .dataframe tbody tr th {\n",
       "        vertical-align: top;\n",
       "    }\n",
       "\n",
       "    .dataframe thead th {\n",
       "        text-align: right;\n",
       "    }\n",
       "</style>\n",
       "<table border=\"1\" class=\"dataframe\">\n",
       "  <thead>\n",
       "    <tr style=\"text-align: right;\">\n",
       "      <th></th>\n",
       "      <th>Day-Confirmed</th>\n",
       "      <th>Day-Deaths</th>\n",
       "      <th>Day-Recovered</th>\n",
       "      <th>Date</th>\n",
       "      <th>month</th>\n",
       "    </tr>\n",
       "  </thead>\n",
       "  <tbody>\n",
       "    <tr>\n",
       "      <th>0</th>\n",
       "      <td>6.0</td>\n",
       "      <td>0.0</td>\n",
       "      <td>0.0</td>\n",
       "      <td>2020-03-06</td>\n",
       "      <td>3</td>\n",
       "    </tr>\n",
       "    <tr>\n",
       "      <th>1</th>\n",
       "      <td>4.0</td>\n",
       "      <td>0.0</td>\n",
       "      <td>0.0</td>\n",
       "      <td>2020-03-07</td>\n",
       "      <td>3</td>\n",
       "    </tr>\n",
       "    <tr>\n",
       "      <th>2</th>\n",
       "      <td>3.0</td>\n",
       "      <td>0.0</td>\n",
       "      <td>0.0</td>\n",
       "      <td>2020-03-08</td>\n",
       "      <td>3</td>\n",
       "    </tr>\n",
       "    <tr>\n",
       "      <th>3</th>\n",
       "      <td>3.0</td>\n",
       "      <td>0.0</td>\n",
       "      <td>0.0</td>\n",
       "      <td>2020-03-09</td>\n",
       "      <td>3</td>\n",
       "    </tr>\n",
       "    <tr>\n",
       "      <th>4</th>\n",
       "      <td>3.0</td>\n",
       "      <td>0.0</td>\n",
       "      <td>0.0</td>\n",
       "      <td>2020-03-10</td>\n",
       "      <td>3</td>\n",
       "    </tr>\n",
       "    <tr>\n",
       "      <th>...</th>\n",
       "      <td>...</td>\n",
       "      <td>...</td>\n",
       "      <td>...</td>\n",
       "      <td>...</td>\n",
       "      <td>...</td>\n",
       "    </tr>\n",
       "    <tr>\n",
       "      <th>143</th>\n",
       "      <td>5635.0</td>\n",
       "      <td>85.0</td>\n",
       "      <td>3063.0</td>\n",
       "      <td>2020-07-27</td>\n",
       "      <td>7</td>\n",
       "    </tr>\n",
       "    <tr>\n",
       "      <th>144</th>\n",
       "      <td>5395.0</td>\n",
       "      <td>150.0</td>\n",
       "      <td>8869.0</td>\n",
       "      <td>2020-07-28</td>\n",
       "      <td>7</td>\n",
       "    </tr>\n",
       "    <tr>\n",
       "      <th>145</th>\n",
       "      <td>5475.0</td>\n",
       "      <td>169.0</td>\n",
       "      <td>8069.0</td>\n",
       "      <td>2020-07-29</td>\n",
       "      <td>7</td>\n",
       "    </tr>\n",
       "    <tr>\n",
       "      <th>146</th>\n",
       "      <td>5509.0</td>\n",
       "      <td>129.0</td>\n",
       "      <td>9310.0</td>\n",
       "      <td>2020-07-30</td>\n",
       "      <td>7</td>\n",
       "    </tr>\n",
       "    <tr>\n",
       "      <th>147</th>\n",
       "      <td>5482.0</td>\n",
       "      <td>161.0</td>\n",
       "      <td>8747.0</td>\n",
       "      <td>2020-07-31</td>\n",
       "      <td>7</td>\n",
       "    </tr>\n",
       "  </tbody>\n",
       "</table>\n",
       "<p>148 rows × 5 columns</p>\n",
       "</div>"
      ],
      "text/plain": [
       "     Day-Confirmed  Day-Deaths  Day-Recovered        Date  month\n",
       "0              6.0         0.0            0.0  2020-03-06      3\n",
       "1              4.0         0.0            0.0  2020-03-07      3\n",
       "2              3.0         0.0            0.0  2020-03-08      3\n",
       "3              3.0         0.0            0.0  2020-03-09      3\n",
       "4              3.0         0.0            0.0  2020-03-10      3\n",
       "..             ...         ...            ...         ...    ...\n",
       "143         5635.0        85.0         3063.0  2020-07-27      7\n",
       "144         5395.0       150.0         8869.0  2020-07-28      7\n",
       "145         5475.0       169.0         8069.0  2020-07-29      7\n",
       "146         5509.0       129.0         9310.0  2020-07-30      7\n",
       "147         5482.0       161.0         8747.0  2020-07-31      7\n",
       "\n",
       "[148 rows x 5 columns]"
      ]
     },
     "execution_count": 7,
     "metadata": {},
     "output_type": "execute_result"
    }
   ],
   "source": [
    "russia_data.loc[:,\"Date\"] = list(map(lambda x: datetime.datetime.strptime(x,\"%Y-%m-%d\").date(), russia_data.index))\n",
    "russia_data.loc[:,\"month\"] = list(map(lambda x: x.month, russia_data[\"Date\"].values))\n",
    "russia_data.index = np.arange(148)\n",
    "russia_data"
   ]
  },
  {
   "cell_type": "code",
   "execution_count": 8,
   "metadata": {},
   "outputs": [
    {
     "data": {
      "text/html": [
       "<div>\n",
       "<style scoped>\n",
       "    .dataframe tbody tr th:only-of-type {\n",
       "        vertical-align: middle;\n",
       "    }\n",
       "\n",
       "    .dataframe tbody tr th {\n",
       "        vertical-align: top;\n",
       "    }\n",
       "\n",
       "    .dataframe thead th {\n",
       "        text-align: right;\n",
       "    }\n",
       "</style>\n",
       "<table border=\"1\" class=\"dataframe\">\n",
       "  <thead>\n",
       "    <tr style=\"text-align: right;\">\n",
       "      <th></th>\n",
       "      <th>Day-Confirmed</th>\n",
       "      <th>Day-Deaths</th>\n",
       "      <th>Day-Recovered</th>\n",
       "      <th>Date</th>\n",
       "      <th>month</th>\n",
       "    </tr>\n",
       "  </thead>\n",
       "  <tbody>\n",
       "    <tr>\n",
       "      <th>0</th>\n",
       "      <td>1.0</td>\n",
       "      <td>0.0</td>\n",
       "      <td>0.0</td>\n",
       "      <td>2020-03-06</td>\n",
       "      <td>3</td>\n",
       "    </tr>\n",
       "    <tr>\n",
       "      <th>1</th>\n",
       "      <td>4.0</td>\n",
       "      <td>0.0</td>\n",
       "      <td>0.0</td>\n",
       "      <td>2020-03-07</td>\n",
       "      <td>3</td>\n",
       "    </tr>\n",
       "    <tr>\n",
       "      <th>2</th>\n",
       "      <td>3.0</td>\n",
       "      <td>0.0</td>\n",
       "      <td>0.0</td>\n",
       "      <td>2020-03-08</td>\n",
       "      <td>3</td>\n",
       "    </tr>\n",
       "    <tr>\n",
       "      <th>3</th>\n",
       "      <td>0.0</td>\n",
       "      <td>0.0</td>\n",
       "      <td>0.0</td>\n",
       "      <td>2020-03-09</td>\n",
       "      <td>3</td>\n",
       "    </tr>\n",
       "    <tr>\n",
       "      <th>4</th>\n",
       "      <td>0.0</td>\n",
       "      <td>0.0</td>\n",
       "      <td>0.0</td>\n",
       "      <td>2020-03-10</td>\n",
       "      <td>3</td>\n",
       "    </tr>\n",
       "    <tr>\n",
       "      <th>...</th>\n",
       "      <td>...</td>\n",
       "      <td>...</td>\n",
       "      <td>...</td>\n",
       "      <td>...</td>\n",
       "      <td>...</td>\n",
       "    </tr>\n",
       "    <tr>\n",
       "      <th>143</th>\n",
       "      <td>4941.0</td>\n",
       "      <td>72.0</td>\n",
       "      <td>2799.0</td>\n",
       "      <td>2020-07-27</td>\n",
       "      <td>7</td>\n",
       "    </tr>\n",
       "    <tr>\n",
       "      <th>144</th>\n",
       "      <td>4721.0</td>\n",
       "      <td>140.0</td>\n",
       "      <td>8042.0</td>\n",
       "      <td>2020-07-28</td>\n",
       "      <td>7</td>\n",
       "    </tr>\n",
       "    <tr>\n",
       "      <th>145</th>\n",
       "      <td>4804.0</td>\n",
       "      <td>156.0</td>\n",
       "      <td>7444.0</td>\n",
       "      <td>2020-07-29</td>\n",
       "      <td>7</td>\n",
       "    </tr>\n",
       "    <tr>\n",
       "      <th>146</th>\n",
       "      <td>4831.0</td>\n",
       "      <td>117.0</td>\n",
       "      <td>7839.0</td>\n",
       "      <td>2020-07-30</td>\n",
       "      <td>7</td>\n",
       "    </tr>\n",
       "    <tr>\n",
       "      <th>147</th>\n",
       "      <td>4787.0</td>\n",
       "      <td>147.0</td>\n",
       "      <td>7487.0</td>\n",
       "      <td>2020-07-31</td>\n",
       "      <td>7</td>\n",
       "    </tr>\n",
       "  </tbody>\n",
       "</table>\n",
       "<p>148 rows × 5 columns</p>\n",
       "</div>"
      ],
      "text/plain": [
       "     Day-Confirmed  Day-Deaths  Day-Recovered        Date  month\n",
       "0              1.0         0.0            0.0  2020-03-06      3\n",
       "1              4.0         0.0            0.0  2020-03-07      3\n",
       "2              3.0         0.0            0.0  2020-03-08      3\n",
       "3              0.0         0.0            0.0  2020-03-09      3\n",
       "4              0.0         0.0            0.0  2020-03-10      3\n",
       "..             ...         ...            ...         ...    ...\n",
       "143         4941.0        72.0         2799.0  2020-07-27      7\n",
       "144         4721.0       140.0         8042.0  2020-07-28      7\n",
       "145         4804.0       156.0         7444.0  2020-07-29      7\n",
       "146         4831.0       117.0         7839.0  2020-07-30      7\n",
       "147         4787.0       147.0         7487.0  2020-07-31      7\n",
       "\n",
       "[148 rows x 5 columns]"
      ]
     },
     "execution_count": 8,
     "metadata": {},
     "output_type": "execute_result"
    }
   ],
   "source": [
    "region_data.loc[:,\"Date\"] = list(map(lambda x: datetime.datetime.strptime(x,\"%Y-%m-%d\").date(), region_data.index))\n",
    "region_data.loc[:,\"month\"] = list(map(lambda x: x.month, region_data[\"Date\"].values))\n",
    "region_data.index = np.arange(148)\n",
    "region_data"
   ]
  },
  {
   "cell_type": "code",
   "execution_count": 9,
   "metadata": {},
   "outputs": [
    {
     "data": {
      "text/html": [
       "<div>\n",
       "<style scoped>\n",
       "    .dataframe tbody tr th:only-of-type {\n",
       "        vertical-align: middle;\n",
       "    }\n",
       "\n",
       "    .dataframe tbody tr th {\n",
       "        vertical-align: top;\n",
       "    }\n",
       "\n",
       "    .dataframe thead th {\n",
       "        text-align: right;\n",
       "    }\n",
       "</style>\n",
       "<table border=\"1\" class=\"dataframe\">\n",
       "  <thead>\n",
       "    <tr style=\"text-align: right;\">\n",
       "      <th></th>\n",
       "      <th>Date</th>\n",
       "      <th>Day-Confirmed</th>\n",
       "      <th>Day-Deaths</th>\n",
       "      <th>Day-Recovered</th>\n",
       "      <th>month</th>\n",
       "    </tr>\n",
       "  </thead>\n",
       "  <tbody>\n",
       "    <tr>\n",
       "      <th>0</th>\n",
       "      <td>2020-03-06</td>\n",
       "      <td>5.0</td>\n",
       "      <td>0.0</td>\n",
       "      <td>0.0</td>\n",
       "      <td>3</td>\n",
       "    </tr>\n",
       "    <tr>\n",
       "      <th>1</th>\n",
       "      <td>2020-03-07</td>\n",
       "      <td>0.0</td>\n",
       "      <td>0.0</td>\n",
       "      <td>0.0</td>\n",
       "      <td>3</td>\n",
       "    </tr>\n",
       "    <tr>\n",
       "      <th>2</th>\n",
       "      <td>2020-03-08</td>\n",
       "      <td>0.0</td>\n",
       "      <td>0.0</td>\n",
       "      <td>0.0</td>\n",
       "      <td>3</td>\n",
       "    </tr>\n",
       "    <tr>\n",
       "      <th>3</th>\n",
       "      <td>2020-03-09</td>\n",
       "      <td>3.0</td>\n",
       "      <td>0.0</td>\n",
       "      <td>0.0</td>\n",
       "      <td>3</td>\n",
       "    </tr>\n",
       "    <tr>\n",
       "      <th>4</th>\n",
       "      <td>2020-03-10</td>\n",
       "      <td>3.0</td>\n",
       "      <td>0.0</td>\n",
       "      <td>0.0</td>\n",
       "      <td>3</td>\n",
       "    </tr>\n",
       "    <tr>\n",
       "      <th>...</th>\n",
       "      <td>...</td>\n",
       "      <td>...</td>\n",
       "      <td>...</td>\n",
       "      <td>...</td>\n",
       "      <td>...</td>\n",
       "    </tr>\n",
       "    <tr>\n",
       "      <th>143</th>\n",
       "      <td>2020-07-27</td>\n",
       "      <td>694.0</td>\n",
       "      <td>13.0</td>\n",
       "      <td>264.0</td>\n",
       "      <td>7</td>\n",
       "    </tr>\n",
       "    <tr>\n",
       "      <th>144</th>\n",
       "      <td>2020-07-28</td>\n",
       "      <td>674.0</td>\n",
       "      <td>10.0</td>\n",
       "      <td>827.0</td>\n",
       "      <td>7</td>\n",
       "    </tr>\n",
       "    <tr>\n",
       "      <th>145</th>\n",
       "      <td>2020-07-29</td>\n",
       "      <td>671.0</td>\n",
       "      <td>13.0</td>\n",
       "      <td>625.0</td>\n",
       "      <td>7</td>\n",
       "    </tr>\n",
       "    <tr>\n",
       "      <th>146</th>\n",
       "      <td>2020-07-30</td>\n",
       "      <td>678.0</td>\n",
       "      <td>12.0</td>\n",
       "      <td>1471.0</td>\n",
       "      <td>7</td>\n",
       "    </tr>\n",
       "    <tr>\n",
       "      <th>147</th>\n",
       "      <td>2020-07-31</td>\n",
       "      <td>695.0</td>\n",
       "      <td>14.0</td>\n",
       "      <td>1260.0</td>\n",
       "      <td>7</td>\n",
       "    </tr>\n",
       "  </tbody>\n",
       "</table>\n",
       "<p>148 rows × 5 columns</p>\n",
       "</div>"
      ],
      "text/plain": [
       "           Date  Day-Confirmed  Day-Deaths  Day-Recovered  month\n",
       "0    2020-03-06            5.0         0.0            0.0      3\n",
       "1    2020-03-07            0.0         0.0            0.0      3\n",
       "2    2020-03-08            0.0         0.0            0.0      3\n",
       "3    2020-03-09            3.0         0.0            0.0      3\n",
       "4    2020-03-10            3.0         0.0            0.0      3\n",
       "..          ...            ...         ...            ...    ...\n",
       "143  2020-07-27          694.0        13.0          264.0      7\n",
       "144  2020-07-28          674.0        10.0          827.0      7\n",
       "145  2020-07-29          671.0        13.0          625.0      7\n",
       "146  2020-07-30          678.0        12.0         1471.0      7\n",
       "147  2020-07-31          695.0        14.0         1260.0      7\n",
       "\n",
       "[148 rows x 5 columns]"
      ]
     },
     "execution_count": 9,
     "metadata": {},
     "output_type": "execute_result"
    }
   ],
   "source": [
    "moscow_data.loc[:,\"Date\"] = list(map(lambda x: datetime.datetime.strptime(x,\"%Y-%m-%d\").date(), moscow_data['Date'].values))\n",
    "moscow_data.loc[:,\"month\"] = list(map(lambda x: x.month, moscow_data[\"Date\"].values))\n",
    "moscow_data.index = np.arange(148)\n",
    "moscow_data"
   ]
  },
  {
   "cell_type": "markdown",
   "metadata": {},
   "source": [
    "# 3. Визуальный анализ данных"
   ]
  },
  {
   "cell_type": "markdown",
   "metadata": {},
   "source": [
    "**Посмотрим на то, как менялось количество новых случаев во всей России, в Москве и в регионах**"
   ]
  },
  {
   "cell_type": "code",
   "execution_count": 10,
   "metadata": {},
   "outputs": [],
   "source": [
    "import matplotlib.ticker as ticker"
   ]
  },
  {
   "cell_type": "code",
   "execution_count": 11,
   "metadata": {},
   "outputs": [
    {
     "data": {
      "image/png": "[encoded data removed]",
      "text/plain": [
       "<Figure size 432x288 with 1 Axes>"
      ]
     },
     "metadata": {
      "needs_background": "light"
     },
     "output_type": "display_data"
    }
   ],
   "source": [
    "fig, ax = plt.subplots()\n",
    "\n",
    "ax.plot(russia_data[\"Date\"], russia_data[\"Day-Confirmed\"], color='r')\n",
    "#ax.grid()\n",
    "\n",
    "ax.xaxis.set_major_locator(ticker.MultipleLocator(29))\n",
    "\n",
    "ax.set_title('Зависимость числа новых случаев по всей России от даты ')\n",
    "\n",
    "ax.set_xlabel('дата')\n",
    "ax.set_ylabel('количество новых случаев')\n",
    "\n",
    "plt.show()    "
   ]
  },
  {
   "cell_type": "markdown",
   "metadata": {},
   "source": [
    "**Итак, можно обратить внимание, что наибольший пик приходился на первую половину мая. В марте заболеваемость была почти на нуле, в апреле был достаточно резкий рост, а начиная со второй половины мая - достаточно плавное падение. Далее посмотрим на аналогичные графики для Москвы и регионов**"
   ]
  },
  {
   "cell_type": "code",
   "execution_count": 12,
   "metadata": {},
   "outputs": [
    {
     "data": {
      "image/png": "[encoded data removed]",
      "text/plain": [
       "<Figure size 432x288 with 1 Axes>"
      ]
     },
     "metadata": {
      "needs_background": "light"
     },
     "output_type": "display_data"
    }
   ],
   "source": [
    "fig, ax = plt.subplots()\n",
    "\n",
    "ax.plot(moscow_data[\"Date\"], moscow_data[\"Day-Confirmed\"], color='r')\n",
    "\n",
    "ax.xaxis.set_major_locator(ticker.MultipleLocator(29))\n",
    "\n",
    "ax.set_title('Зависимость числа новых случаев в Москве от даты ')\n",
    "\n",
    "ax.set_xlabel('дата')\n",
    "ax.set_ylabel('количество новых случаев')\n",
    "\n",
    "plt.show()    "
   ]
  },
  {
   "cell_type": "code",
   "execution_count": 13,
   "metadata": {},
   "outputs": [
    {
     "data": {
      "image/png": "[encoded data removed]",
      "text/plain": [
       "<Figure size 432x288 with 1 Axes>"
      ]
     },
     "metadata": {
      "needs_background": "light"
     },
     "output_type": "display_data"
    }
   ],
   "source": [
    "fig, ax = plt.subplots()\n",
    "\n",
    "ax.plot(region_data[\"Date\"], region_data[\"Day-Confirmed\"], color='r')\n",
    "#ax.grid()\n",
    "\n",
    "ax.xaxis.set_major_locator(ticker.MultipleLocator(29))\n",
    "\n",
    "ax.set_title('Зависимость числа новых случаев в регионах России от даты ')\n",
    "\n",
    "ax.set_xlabel('дата')\n",
    "ax.set_ylabel('количество новых случаев')\n",
    "\n",
    "plt.show()    "
   ]
  },
  {
   "cell_type": "markdown",
   "metadata": {},
   "source": [
    "**Итак, можно обратить внимание, что наибольший пик заболеваемости в Москве также приходится на начало мая. Однако далее в Москве происходит очень сильный спад. В то же время в регионах пик заболеваемости был в конце мая и в начале июня. Вот почему на графике заболеваемости по Всей России после прохождения пика падение получается очень медленным - в то время, как в Москве заболеваемость резко падала, в регионах она продолжала расти**"
   ]
  },
  {
   "cell_type": "markdown",
   "metadata": {},
   "source": [
    "**Теперь построим аналогичные графики с количеством смертей и выздоравлений**"
   ]
  },
  {
   "cell_type": "code",
   "execution_count": 14,
   "metadata": {},
   "outputs": [
    {
     "data": {
      "image/png": "[encoded data removed]",
      "text/plain": [
       "<Figure size 432x288 with 1 Axes>"
      ]
     },
     "metadata": {
      "needs_background": "light"
     },
     "output_type": "display_data"
    }
   ],
   "source": [
    "fig, ax = plt.subplots()\n",
    "\n",
    "ax.plot(russia_data[\"Date\"], russia_data[\"Day-Deaths\"], color='r')\n",
    "#ax.grid()\n",
    "\n",
    "ax.xaxis.set_major_locator(ticker.MultipleLocator(29))\n",
    "\n",
    "ax.set_title('Зависимость числа смертей по всей России от даты ')\n",
    "\n",
    "ax.set_xlabel('дата')\n",
    "ax.set_ylabel('количество новых случаев')\n",
    "\n",
    "plt.show() "
   ]
  },
  {
   "cell_type": "code",
   "execution_count": 15,
   "metadata": {},
   "outputs": [
    {
     "data": {
      "image/png": "[encoded data removed]",
      "text/plain": [
       "<Figure size 432x288 with 1 Axes>"
      ]
     },
     "metadata": {
      "needs_background": "light"
     },
     "output_type": "display_data"
    }
   ],
   "source": [
    "fig, ax = plt.subplots()\n",
    "\n",
    "ax.plot(moscow_data[\"Date\"], moscow_data[\"Day-Deaths\"], color='r')\n",
    "\n",
    "ax.xaxis.set_major_locator(ticker.MultipleLocator(29))\n",
    "\n",
    "ax.set_title('Зависимость числа смертей в Москве от даты ')\n",
    "\n",
    "ax.set_xlabel('дата')\n",
    "ax.set_ylabel('количество новых случаев')\n",
    "\n",
    "plt.show() "
   ]
  },
  {
   "cell_type": "code",
   "execution_count": 16,
   "metadata": {},
   "outputs": [
    {
     "data": {
      "image/png": "[encoded data removed]",
      "text/plain": [
       "<Figure size 432x288 with 1 Axes>"
      ]
     },
     "metadata": {
      "needs_background": "light"
     },
     "output_type": "display_data"
    }
   ],
   "source": [
    "fig, ax = plt.subplots()\n",
    "\n",
    "ax.plot(region_data[\"Date\"], region_data[\"Day-Deaths\"], color='r')\n",
    "#ax.grid()\n",
    "\n",
    "ax.xaxis.set_major_locator(ticker.MultipleLocator(29))\n",
    "\n",
    "ax.set_title('Зависимость числа смертей в регионах России от даты ')\n",
    "\n",
    "ax.set_xlabel('дата')\n",
    "ax.set_ylabel('количество новых случаев')\n",
    "\n",
    "plt.show()    "
   ]
  },
  {
   "cell_type": "markdown",
   "metadata": {},
   "source": [
    "**Итак, можно заметить, что количествосво смертей в Москве росло до начала июня, после чего достаточно резко начало падать, а вот в регионах и по всей Росссии рост был не настолько резким, но и падения не произошло - с начала июня количество достаточно сильно колебалось**"
   ]
  },
  {
   "cell_type": "markdown",
   "metadata": {},
   "source": [
    "**Теперь посмотрим на то, как менялось число выздоровевших людей**"
   ]
  },
  {
   "cell_type": "code",
   "execution_count": 17,
   "metadata": {},
   "outputs": [
    {
     "data": {
      "image/png": "[encoded data removed]",
      "text/plain": [
       "<Figure size 432x288 with 1 Axes>"
      ]
     },
     "metadata": {
      "needs_background": "light"
     },
     "output_type": "display_data"
    }
   ],
   "source": [
    "fig, ax = plt.subplots()\n",
    "\n",
    "ax.plot(russia_data[\"Date\"], russia_data[\"Day-Recovered\"], color='r')\n",
    "#ax.grid()\n",
    "\n",
    "ax.xaxis.set_major_locator(ticker.MultipleLocator(29))\n",
    "\n",
    "ax.set_title('Зависимость числа выздоровевших по всей России от даты ')\n",
    "\n",
    "ax.set_xlabel('дата')\n",
    "ax.set_ylabel('количество новых выздоровевших')\n",
    "\n",
    "plt.show() "
   ]
  },
  {
   "cell_type": "code",
   "execution_count": 18,
   "metadata": {},
   "outputs": [
    {
     "data": {
      "image/png": "[encoded data removed]",
      "text/plain": [
       "<Figure size 432x288 with 1 Axes>"
      ]
     },
     "metadata": {
      "needs_background": "light"
     },
     "output_type": "display_data"
    }
   ],
   "source": [
    "fig, ax = plt.subplots()\n",
    "\n",
    "ax.plot(moscow_data[\"Date\"], moscow_data[\"Day-Recovered\"], color='r')\n",
    "\n",
    "ax.xaxis.set_major_locator(ticker.MultipleLocator(29))\n",
    "\n",
    "ax.set_title('Зависимость числа выздоровевших в Москве от даты ')\n",
    "\n",
    "ax.set_xlabel('дата')\n",
    "ax.set_ylabel('количество новых выздоровевших')\n",
    "\n",
    "plt.show() "
   ]
  },
  {
   "cell_type": "code",
   "execution_count": 19,
   "metadata": {},
   "outputs": [
    {
     "data": {
      "image/png": "[encoded data removed]",
      "text/plain": [
       "<Figure size 432x288 with 1 Axes>"
      ]
     },
     "metadata": {
      "needs_background": "light"
     },
     "output_type": "display_data"
    }
   ],
   "source": [
    "fig, ax = plt.subplots()\n",
    "\n",
    "ax.plot(region_data[\"Date\"], region_data[\"Day-Recovered\"], color='r')\n",
    "#ax.grid()\n",
    "\n",
    "ax.xaxis.set_major_locator(ticker.MultipleLocator(29))\n",
    "\n",
    "ax.set_title('Зависимость числа выздоровевших в регионах России от даты ')\n",
    "\n",
    "ax.set_xlabel('дата')\n",
    "ax.set_ylabel('количество новых выздоровевших')\n",
    "\n",
    "plt.show()"
   ]
  },
  {
   "cell_type": "markdown",
   "metadata": {},
   "source": [
    "**Число выздоровевших людей в Москве было максимально в начале июня - что логично, учитывая, что как раз прошло около месяца после пика по заболеваемости. После этого число начало убывать, так как и заражений стало меньше. А вот ситуация в регионах и всей остальной части России отличается от ситуации в Москве: число выздоравлений там имеет достаточно сильные колебания и остается примерно на одном уровне в июне и июле**"
   ]
  },
  {
   "cell_type": "markdown",
   "metadata": {},
   "source": [
    "**Выводы**\n",
    "* 1) Пик заболеваемости в Москве пришелся на начало мая, в то время как в регионах он наступил лишь в начале июня\n",
    "* 2) Если в Москве после пика началось резкое падение, то в регионах падение было достаточно медленным. Думаю, это связано с тем, что в Москве делали намного намного больше тестов, чем в регионах, а также лучше следили , чтобы зараженные люди посидели дома какое-то время\n",
    "* 3) Можно заметить, что спустя какое-то время после пика число смертей в Москве стало сильно падать, а вот в регионах даже после пика оно было достаточно большим и четкого падения не наблюдалось. Это связано с тем, что медицина в Москве на более высоком уровне: когда было подготовлено достатчное количество больничных мест, то очень многих людей стало возможно спасти, а вот в регионах ситуация несколько хуже, поэтому число смертей там все еще оставалось достаточно большим\n"
   ]
  },
  {
   "cell_type": "markdown",
   "metadata": {},
   "source": [
    "**Далее посмотрим , как менялось число новых заболевших в разные месяцы**"
   ]
  },
  {
   "cell_type": "code",
   "execution_count": 20,
   "metadata": {},
   "outputs": [
    {
     "data": {
      "text/html": [
       "<div>\n",
       "<style scoped>\n",
       "    .dataframe tbody tr th:only-of-type {\n",
       "        vertical-align: middle;\n",
       "    }\n",
       "\n",
       "    .dataframe tbody tr th {\n",
       "        vertical-align: top;\n",
       "    }\n",
       "\n",
       "    .dataframe thead th {\n",
       "        text-align: right;\n",
       "    }\n",
       "</style>\n",
       "<table border=\"1\" class=\"dataframe\">\n",
       "  <thead>\n",
       "    <tr style=\"text-align: right;\">\n",
       "      <th></th>\n",
       "      <th>Day-Confirmed</th>\n",
       "      <th>Day-Deaths</th>\n",
       "      <th>Day-Recovered</th>\n",
       "    </tr>\n",
       "    <tr>\n",
       "      <th>month</th>\n",
       "      <th></th>\n",
       "      <th></th>\n",
       "      <th></th>\n",
       "    </tr>\n",
       "  </thead>\n",
       "  <tbody>\n",
       "    <tr>\n",
       "      <th>3</th>\n",
       "      <td>2336.0</td>\n",
       "      <td>17.0</td>\n",
       "      <td>121.0</td>\n",
       "    </tr>\n",
       "    <tr>\n",
       "      <th>4</th>\n",
       "      <td>104161.0</td>\n",
       "      <td>1056.0</td>\n",
       "      <td>11498.0</td>\n",
       "    </tr>\n",
       "    <tr>\n",
       "      <th>5</th>\n",
       "      <td>299345.0</td>\n",
       "      <td>3620.0</td>\n",
       "      <td>160264.0</td>\n",
       "    </tr>\n",
       "    <tr>\n",
       "      <th>6</th>\n",
       "      <td>242006.0</td>\n",
       "      <td>4627.0</td>\n",
       "      <td>240767.0</td>\n",
       "    </tr>\n",
       "    <tr>\n",
       "      <th>7</th>\n",
       "      <td>192132.0</td>\n",
       "      <td>4643.0</td>\n",
       "      <td>225761.0</td>\n",
       "    </tr>\n",
       "  </tbody>\n",
       "</table>\n",
       "</div>"
      ],
      "text/plain": [
       "       Day-Confirmed  Day-Deaths  Day-Recovered\n",
       "month                                          \n",
       "3             2336.0        17.0          121.0\n",
       "4           104161.0      1056.0        11498.0\n",
       "5           299345.0      3620.0       160264.0\n",
       "6           242006.0      4627.0       240767.0\n",
       "7           192132.0      4643.0       225761.0"
      ]
     },
     "execution_count": 20,
     "metadata": {},
     "output_type": "execute_result"
    }
   ],
   "source": [
    "russia_month = russia_data.groupby('month').sum()\n",
    "russia_month"
   ]
  },
  {
   "cell_type": "code",
   "execution_count": 21,
   "metadata": {},
   "outputs": [
    {
     "data": {
      "text/plain": [
       "<BarContainer object of 5 artists>"
      ]
     },
     "execution_count": 21,
     "metadata": {},
     "output_type": "execute_result"
    },
    {
     "data": {
      "image/png": "[encoded data removed]",
      "text/plain": [
       "<Figure size 432x288 with 1 Axes>"
      ]
     },
     "metadata": {
      "needs_background": "light"
     },
     "output_type": "display_data"
    }
   ],
   "source": [
    "plt.bar(russia_month.index, russia_month[\"Day-Confirmed\"].values)"
   ]
  },
  {
   "cell_type": "markdown",
   "metadata": {},
   "source": [
    "**Заметим, что наибольшее число выявленных случае было в мае - то есть когда пик заболеваемости в Москве уже почти прошел, а в России еще не наступил**"
   ]
  },
  {
   "cell_type": "code",
   "execution_count": 22,
   "metadata": {},
   "outputs": [
    {
     "data": {
      "text/html": [
       "<div>\n",
       "<style scoped>\n",
       "    .dataframe tbody tr th:only-of-type {\n",
       "        vertical-align: middle;\n",
       "    }\n",
       "\n",
       "    .dataframe tbody tr th {\n",
       "        vertical-align: top;\n",
       "    }\n",
       "\n",
       "    .dataframe thead th {\n",
       "        text-align: right;\n",
       "    }\n",
       "</style>\n",
       "<table border=\"1\" class=\"dataframe\">\n",
       "  <thead>\n",
       "    <tr style=\"text-align: right;\">\n",
       "      <th></th>\n",
       "      <th>Day-Confirmed</th>\n",
       "      <th>Day-Deaths</th>\n",
       "      <th>Day-Recovered</th>\n",
       "    </tr>\n",
       "    <tr>\n",
       "      <th>month</th>\n",
       "      <th></th>\n",
       "      <th></th>\n",
       "      <th></th>\n",
       "    </tr>\n",
       "  </thead>\n",
       "  <tbody>\n",
       "    <tr>\n",
       "      <th>3</th>\n",
       "      <td>1613.0</td>\n",
       "      <td>11.0</td>\n",
       "      <td>70.0</td>\n",
       "    </tr>\n",
       "    <tr>\n",
       "      <th>4</th>\n",
       "      <td>52126.0</td>\n",
       "      <td>600.0</td>\n",
       "      <td>5065.0</td>\n",
       "    </tr>\n",
       "    <tr>\n",
       "      <th>5</th>\n",
       "      <td>127052.0</td>\n",
       "      <td>1866.0</td>\n",
       "      <td>75044.0</td>\n",
       "    </tr>\n",
       "    <tr>\n",
       "      <th>6</th>\n",
       "      <td>40807.0</td>\n",
       "      <td>1319.0</td>\n",
       "      <td>70218.0</td>\n",
       "    </tr>\n",
       "    <tr>\n",
       "      <th>7</th>\n",
       "      <td>19761.0</td>\n",
       "      <td>664.0</td>\n",
       "      <td>28771.0</td>\n",
       "    </tr>\n",
       "  </tbody>\n",
       "</table>\n",
       "</div>"
      ],
      "text/plain": [
       "       Day-Confirmed  Day-Deaths  Day-Recovered\n",
       "month                                          \n",
       "3             1613.0        11.0           70.0\n",
       "4            52126.0       600.0         5065.0\n",
       "5           127052.0      1866.0        75044.0\n",
       "6            40807.0      1319.0        70218.0\n",
       "7            19761.0       664.0        28771.0"
      ]
     },
     "execution_count": 22,
     "metadata": {},
     "output_type": "execute_result"
    }
   ],
   "source": [
    "moscow_month = moscow_data.groupby('month').sum()\n",
    "moscow_month"
   ]
  },
  {
   "cell_type": "code",
   "execution_count": 23,
   "metadata": {},
   "outputs": [
    {
     "data": {
      "text/plain": [
       "<BarContainer object of 5 artists>"
      ]
     },
     "execution_count": 23,
     "metadata": {},
     "output_type": "execute_result"
    },
    {
     "data": {
      "image/png": "[encoded data removed]",
      "text/plain": [
       "<Figure size 432x288 with 1 Axes>"
      ]
     },
     "metadata": {
      "needs_background": "light"
     },
     "output_type": "display_data"
    }
   ],
   "source": [
    "plt.bar(moscow_month.index, moscow_month[\"Day-Confirmed\"].values)"
   ]
  },
  {
   "cell_type": "markdown",
   "metadata": {},
   "source": [
    "**Можно заметить, что в июня случаев заражения в Москве было выявлено даже меньше, чем в апреле, а в Мае было выявлено больше, чем за другие 4 месяца вмесое взятые**"
   ]
  },
  {
   "cell_type": "code",
   "execution_count": 24,
   "metadata": {},
   "outputs": [
    {
     "data": {
      "text/html": [
       "<div>\n",
       "<style scoped>\n",
       "    .dataframe tbody tr th:only-of-type {\n",
       "        vertical-align: middle;\n",
       "    }\n",
       "\n",
       "    .dataframe tbody tr th {\n",
       "        vertical-align: top;\n",
       "    }\n",
       "\n",
       "    .dataframe thead th {\n",
       "        text-align: right;\n",
       "    }\n",
       "</style>\n",
       "<table border=\"1\" class=\"dataframe\">\n",
       "  <thead>\n",
       "    <tr style=\"text-align: right;\">\n",
       "      <th></th>\n",
       "      <th>Day-Confirmed</th>\n",
       "      <th>Day-Deaths</th>\n",
       "      <th>Day-Recovered</th>\n",
       "    </tr>\n",
       "    <tr>\n",
       "      <th>month</th>\n",
       "      <th></th>\n",
       "      <th></th>\n",
       "      <th></th>\n",
       "    </tr>\n",
       "  </thead>\n",
       "  <tbody>\n",
       "    <tr>\n",
       "      <th>3</th>\n",
       "      <td>723.0</td>\n",
       "      <td>6.0</td>\n",
       "      <td>51.0</td>\n",
       "    </tr>\n",
       "    <tr>\n",
       "      <th>4</th>\n",
       "      <td>52035.0</td>\n",
       "      <td>456.0</td>\n",
       "      <td>6433.0</td>\n",
       "    </tr>\n",
       "    <tr>\n",
       "      <th>5</th>\n",
       "      <td>172293.0</td>\n",
       "      <td>1754.0</td>\n",
       "      <td>85220.0</td>\n",
       "    </tr>\n",
       "    <tr>\n",
       "      <th>6</th>\n",
       "      <td>201199.0</td>\n",
       "      <td>3308.0</td>\n",
       "      <td>170549.0</td>\n",
       "    </tr>\n",
       "    <tr>\n",
       "      <th>7</th>\n",
       "      <td>172371.0</td>\n",
       "      <td>3979.0</td>\n",
       "      <td>196990.0</td>\n",
       "    </tr>\n",
       "  </tbody>\n",
       "</table>\n",
       "</div>"
      ],
      "text/plain": [
       "       Day-Confirmed  Day-Deaths  Day-Recovered\n",
       "month                                          \n",
       "3              723.0         6.0           51.0\n",
       "4            52035.0       456.0         6433.0\n",
       "5           172293.0      1754.0        85220.0\n",
       "6           201199.0      3308.0       170549.0\n",
       "7           172371.0      3979.0       196990.0"
      ]
     },
     "execution_count": 24,
     "metadata": {},
     "output_type": "execute_result"
    }
   ],
   "source": [
    "region_month = region_data.groupby('month').sum()\n",
    "region_month"
   ]
  },
  {
   "cell_type": "code",
   "execution_count": 25,
   "metadata": {},
   "outputs": [
    {
     "data": {
      "text/plain": [
       "<BarContainer object of 5 artists>"
      ]
     },
     "execution_count": 25,
     "metadata": {},
     "output_type": "execute_result"
    },
    {
     "data": {
      "image/png": "[encoded data removed]",
      "text/plain": [
       "<Figure size 432x288 with 1 Axes>"
      ]
     },
     "metadata": {
      "needs_background": "light"
     },
     "output_type": "display_data"
    }
   ],
   "source": [
    "plt.bar(region_month.index, region_month[\"Day-Confirmed\"].values)"
   ]
  },
  {
   "cell_type": "markdown",
   "metadata": {},
   "source": [
    "**Итак, видно, что пик действительно был в июне, однако в июле ситуация не стала сильно лучше. Заболеваемость была все еще на высоком уровне, в то время, как в Москве в июле число новых случае было крайне низким.**"
   ]
  },
  {
   "cell_type": "markdown",
   "metadata": {},
   "source": [
    "**Посмотрим на то, как обстояло дело со смерятми**"
   ]
  },
  {
   "cell_type": "code",
   "execution_count": 26,
   "metadata": {},
   "outputs": [
    {
     "data": {
      "text/plain": [
       "<BarContainer object of 5 artists>"
      ]
     },
     "execution_count": 26,
     "metadata": {},
     "output_type": "execute_result"
    },
    {
     "data": {
      "image/png": "[encoded data removed]",
      "text/plain": [
       "<Figure size 432x288 with 1 Axes>"
      ]
     },
     "metadata": {
      "needs_background": "light"
     },
     "output_type": "display_data"
    }
   ],
   "source": [
    "plt.bar(russia_month.index, russia_month[\"Day-Deaths\"].values)"
   ]
  },
  {
   "cell_type": "code",
   "execution_count": 27,
   "metadata": {},
   "outputs": [
    {
     "data": {
      "text/plain": [
       "<BarContainer object of 5 artists>"
      ]
     },
     "execution_count": 27,
     "metadata": {},
     "output_type": "execute_result"
    },
    {
     "data": {
      "image/png": "[encoded data removed]",
      "text/plain": [
       "<Figure size 432x288 with 1 Axes>"
      ]
     },
     "metadata": {
      "needs_background": "light"
     },
     "output_type": "display_data"
    }
   ],
   "source": [
    "plt.bar(moscow_month.index, moscow_month[\"Day-Deaths\"].values)"
   ]
  },
  {
   "cell_type": "code",
   "execution_count": 28,
   "metadata": {},
   "outputs": [
    {
     "data": {
      "text/plain": [
       "<BarContainer object of 5 artists>"
      ]
     },
     "execution_count": 28,
     "metadata": {},
     "output_type": "execute_result"
    },
    {
     "data": {
      "image/png": "[encoded data removed]",
      "text/plain": [
       "<Figure size 432x288 with 1 Axes>"
      ]
     },
     "metadata": {
      "needs_background": "light"
     },
     "output_type": "display_data"
    }
   ],
   "source": [
    "plt.bar(region_month.index, region_month[\"Day-Deaths\"].values)"
   ]
  },
  {
   "cell_type": "markdown",
   "metadata": {},
   "source": [
    "**Пик количества смертей в Москве совпал с пиком распостранения инфекции - это май. А вот в регионах пик забоелваемости был в июне, а пик смертности - в июле. По всей России число смертей в июне и июле было примерно одно и то же**"
   ]
  },
  {
   "cell_type": "markdown",
   "metadata": {},
   "source": [
    "**Выводы**\n",
    "* 1) Пик смертности и заболеваемости в Москве совпали, а в регионах - пик смертности был через месяц после пика заболеваемости.\n",
    "* 2) В летние месяцы, когда многие уехали из Москвы, ситуация с заболеваемостью там значительно улучшилась, число заболевших было даже ниже, чем в апреле. А вот в регионах летом ситуация была даже напряженнее, чем весной\n"
   ]
  },
  {
   "cell_type": "markdown",
   "metadata": {},
   "source": [
    "# 4. Проверка статистических гипотез "
   ]
  },
  {
   "cell_type": "markdown",
   "metadata": {},
   "source": [
    "**Гипотеза 1. Число смертей в сутки в июне и июле в России совпадала** \n",
    "\n",
    "**H0 :  число смертей в сутки совпадает**\n",
    "\n",
    "**H1 :  число смертей в сутки различается**"
   ]
  },
  {
   "cell_type": "code",
   "execution_count": 29,
   "metadata": {},
   "outputs": [
    {
     "data": {
      "text/html": [
       "<div>\n",
       "<style scoped>\n",
       "    .dataframe tbody tr th:only-of-type {\n",
       "        vertical-align: middle;\n",
       "    }\n",
       "\n",
       "    .dataframe tbody tr th {\n",
       "        vertical-align: top;\n",
       "    }\n",
       "\n",
       "    .dataframe thead th {\n",
       "        text-align: right;\n",
       "    }\n",
       "</style>\n",
       "<table border=\"1\" class=\"dataframe\">\n",
       "  <thead>\n",
       "    <tr style=\"text-align: right;\">\n",
       "      <th></th>\n",
       "      <th>Day-Confirmed</th>\n",
       "      <th>Day-Deaths</th>\n",
       "      <th>Day-Recovered</th>\n",
       "      <th>Date</th>\n",
       "      <th>month</th>\n",
       "    </tr>\n",
       "  </thead>\n",
       "  <tbody>\n",
       "    <tr>\n",
       "      <th>0</th>\n",
       "      <td>6.0</td>\n",
       "      <td>0.0</td>\n",
       "      <td>0.0</td>\n",
       "      <td>2020-03-06</td>\n",
       "      <td>3</td>\n",
       "    </tr>\n",
       "    <tr>\n",
       "      <th>1</th>\n",
       "      <td>4.0</td>\n",
       "      <td>0.0</td>\n",
       "      <td>0.0</td>\n",
       "      <td>2020-03-07</td>\n",
       "      <td>3</td>\n",
       "    </tr>\n",
       "    <tr>\n",
       "      <th>2</th>\n",
       "      <td>3.0</td>\n",
       "      <td>0.0</td>\n",
       "      <td>0.0</td>\n",
       "      <td>2020-03-08</td>\n",
       "      <td>3</td>\n",
       "    </tr>\n",
       "    <tr>\n",
       "      <th>3</th>\n",
       "      <td>3.0</td>\n",
       "      <td>0.0</td>\n",
       "      <td>0.0</td>\n",
       "      <td>2020-03-09</td>\n",
       "      <td>3</td>\n",
       "    </tr>\n",
       "    <tr>\n",
       "      <th>4</th>\n",
       "      <td>3.0</td>\n",
       "      <td>0.0</td>\n",
       "      <td>0.0</td>\n",
       "      <td>2020-03-10</td>\n",
       "      <td>3</td>\n",
       "    </tr>\n",
       "    <tr>\n",
       "      <th>...</th>\n",
       "      <td>...</td>\n",
       "      <td>...</td>\n",
       "      <td>...</td>\n",
       "      <td>...</td>\n",
       "      <td>...</td>\n",
       "    </tr>\n",
       "    <tr>\n",
       "      <th>143</th>\n",
       "      <td>5635.0</td>\n",
       "      <td>85.0</td>\n",
       "      <td>3063.0</td>\n",
       "      <td>2020-07-27</td>\n",
       "      <td>7</td>\n",
       "    </tr>\n",
       "    <tr>\n",
       "      <th>144</th>\n",
       "      <td>5395.0</td>\n",
       "      <td>150.0</td>\n",
       "      <td>8869.0</td>\n",
       "      <td>2020-07-28</td>\n",
       "      <td>7</td>\n",
       "    </tr>\n",
       "    <tr>\n",
       "      <th>145</th>\n",
       "      <td>5475.0</td>\n",
       "      <td>169.0</td>\n",
       "      <td>8069.0</td>\n",
       "      <td>2020-07-29</td>\n",
       "      <td>7</td>\n",
       "    </tr>\n",
       "    <tr>\n",
       "      <th>146</th>\n",
       "      <td>5509.0</td>\n",
       "      <td>129.0</td>\n",
       "      <td>9310.0</td>\n",
       "      <td>2020-07-30</td>\n",
       "      <td>7</td>\n",
       "    </tr>\n",
       "    <tr>\n",
       "      <th>147</th>\n",
       "      <td>5482.0</td>\n",
       "      <td>161.0</td>\n",
       "      <td>8747.0</td>\n",
       "      <td>2020-07-31</td>\n",
       "      <td>7</td>\n",
       "    </tr>\n",
       "  </tbody>\n",
       "</table>\n",
       "<p>148 rows × 5 columns</p>\n",
       "</div>"
      ],
      "text/plain": [
       "     Day-Confirmed  Day-Deaths  Day-Recovered        Date  month\n",
       "0              6.0         0.0            0.0  2020-03-06      3\n",
       "1              4.0         0.0            0.0  2020-03-07      3\n",
       "2              3.0         0.0            0.0  2020-03-08      3\n",
       "3              3.0         0.0            0.0  2020-03-09      3\n",
       "4              3.0         0.0            0.0  2020-03-10      3\n",
       "..             ...         ...            ...         ...    ...\n",
       "143         5635.0        85.0         3063.0  2020-07-27      7\n",
       "144         5395.0       150.0         8869.0  2020-07-28      7\n",
       "145         5475.0       169.0         8069.0  2020-07-29      7\n",
       "146         5509.0       129.0         9310.0  2020-07-30      7\n",
       "147         5482.0       161.0         8747.0  2020-07-31      7\n",
       "\n",
       "[148 rows x 5 columns]"
      ]
     },
     "execution_count": 29,
     "metadata": {},
     "output_type": "execute_result"
    }
   ],
   "source": [
    "russia_data"
   ]
  },
  {
   "cell_type": "code",
   "execution_count": 30,
   "metadata": {},
   "outputs": [],
   "source": [
    "june_death_region = russia_data[region_data[\"month\"] == 6][\"Day-Deaths\"].values\n",
    "july_death_region = russia_data[region_data[\"month\"] == 7][\"Day-Deaths\"].values"
   ]
  },
  {
   "cell_type": "markdown",
   "metadata": {},
   "source": [
    "**Воспользуемся критерием Стьюдента для несвязанных выборок**"
   ]
  },
  {
   "cell_type": "code",
   "execution_count": 31,
   "metadata": {},
   "outputs": [
    {
     "data": {
      "image/png": "[encoded data removed]",
      "text/plain": [
       "<Figure size 1008x216 with 2 Axes>"
      ]
     },
     "metadata": {
      "needs_background": "light"
     },
     "output_type": "display_data"
    }
   ],
   "source": [
    "fig = plt.figure(figsize=(14, 3))\n",
    "ax1 = plt.subplot(121)\n",
    "plt.hist(june_death_region, 100, alpha=0.8)\n",
    "\n",
    "ax1 = plt.subplot(122)\n",
    "plt.hist(july_death_region, 100, alpha=0.8, color = 'r')\n",
    "\n",
    "plt.show()"
   ]
  },
  {
   "cell_type": "markdown",
   "metadata": {},
   "source": [
    "**Видим, что у нас нет нормального распределения, поэтому воспользуемся bootstrap-ом**"
   ]
  },
  {
   "cell_type": "code",
   "execution_count": 32,
   "metadata": {},
   "outputs": [],
   "source": [
    "from sklearn.utils import resample"
   ]
  },
  {
   "cell_type": "code",
   "execution_count": 33,
   "metadata": {},
   "outputs": [],
   "source": [
    "june_distribution = []\n",
    "july_distribution = []\n",
    "\n",
    "for i in range(1000):\n",
    "    sample_june = resample(june_death_region, replace=True, n_samples=10, random_state=i)\n",
    "    sample_july = resample(july_death_region, replace=True, n_samples=10, random_state=i)\n",
    "    \n",
    "    june_distribution.append(np.mean(sample_june))\n",
    "    july_distribution.append(np.mean(sample_july))"
   ]
  },
  {
   "cell_type": "code",
   "execution_count": 34,
   "metadata": {},
   "outputs": [
    {
     "data": {
      "image/png": "[encoded data removed]",
      "text/plain": [
       "<Figure size 1008x216 with 2 Axes>"
      ]
     },
     "metadata": {
      "needs_background": "light"
     },
     "output_type": "display_data"
    }
   ],
   "source": [
    "fig = plt.figure(figsize=(14, 3))\n",
    "ax1 = plt.subplot(121)\n",
    "plt.hist(june_distribution, 100, alpha=0.8)\n",
    "\n",
    "ax1 = plt.subplot(122)\n",
    "plt.hist(july_distribution, 100, alpha=0.8, color = 'r')\n",
    "\n",
    "plt.show()"
   ]
  },
  {
   "cell_type": "markdown",
   "metadata": {},
   "source": [
    "**вот теперь можно применить критерий Стьюдента**"
   ]
  },
  {
   "cell_type": "code",
   "execution_count": 35,
   "metadata": {},
   "outputs": [],
   "source": [
    "from scipy import stats"
   ]
  },
  {
   "cell_type": "code",
   "execution_count": 36,
   "metadata": {},
   "outputs": [],
   "source": [
    "t, p = stats.ttest_ind(june_distribution, july_distribution )  "
   ]
  },
  {
   "cell_type": "code",
   "execution_count": 37,
   "metadata": {},
   "outputs": [
    {
     "data": {
      "text/plain": [
       "(9.837081781569443, 2.4829777220457593e-22)"
      ]
     },
     "execution_count": 37,
     "metadata": {},
     "output_type": "execute_result"
    }
   ],
   "source": [
    "t, p"
   ]
  },
  {
   "cell_type": "markdown",
   "metadata": {},
   "source": [
    "**Итак, видим, что мы не можем принять нулевую гипотезу о совпадении смертности за сутки в регионах в июне и июле, р < 0.05. То есть несмотря на то, что общее число смертей в июне и июле в России совпадало, среднее число смертей в сутки - нет**"
   ]
  },
  {
   "cell_type": "markdown",
   "metadata": {},
   "source": [
    "**Теперь проверим эту же гипотезу с помощью непараметрического критерия  Манна-Уитни**"
   ]
  },
  {
   "cell_type": "code",
   "execution_count": 38,
   "metadata": {},
   "outputs": [
    {
     "data": {
      "text/plain": [
       "MannwhitneyuResult(statistic=376763.5, pvalue=6.905048926435956e-22)"
      ]
     },
     "execution_count": 38,
     "metadata": {},
     "output_type": "execute_result"
    }
   ],
   "source": [
    "stats.mannwhitneyu(june_distribution, july_distribution)"
   ]
  },
  {
   "cell_type": "markdown",
   "metadata": {},
   "source": [
    "**Итак, мы вновь получаем, что не можем принять нашу гипотезу**"
   ]
  },
  {
   "cell_type": "markdown",
   "metadata": {},
   "source": [
    "**Гипотеза 2. Ежедневный прирост в апреле совпал в Москве и в регионах** \n",
    "\n",
    "**H0 : Ежедневный прирост совпадает**\n",
    "\n",
    "**H1 :  Ежедневный прирост различается**"
   ]
  },
  {
   "cell_type": "code",
   "execution_count": 39,
   "metadata": {},
   "outputs": [
    {
     "data": {
      "text/plain": [
       "array([ 267.,  595.,  448.,  434.,  536.,  591.,  697.,  660.,  857.,\n",
       "       1124., 1030., 1306., 1355., 1489., 1774., 1370., 1959., 2649.,\n",
       "       3570., 2026., 3083., 2548., 1959., 2957., 2612., 2971., 2871.,\n",
       "       3075., 2220., 3093.])"
      ]
     },
     "execution_count": 39,
     "metadata": {},
     "output_type": "execute_result"
    }
   ],
   "source": [
    "moscow_april = moscow_data[moscow_data[\"month\"] == 4]\n",
    "moscow_april = moscow_april[\"Day-Confirmed\"].values\n",
    "moscow_april"
   ]
  },
  {
   "cell_type": "code",
   "execution_count": 40,
   "metadata": {},
   "outputs": [
    {
     "data": {
      "text/plain": [
       "array([ 173.,  176.,  153.,  148.,  122.,  363.,  457.,  515.,  602.,\n",
       "        662.,  637.,  869., 1214., 1285., 1614., 2078., 2111., 2136.,\n",
       "       2490., 2242., 2559., 2688., 2815., 2892., 3354., 3390., 3327.,\n",
       "       3336., 3621., 4006.])"
      ]
     },
     "execution_count": 40,
     "metadata": {},
     "output_type": "execute_result"
    }
   ],
   "source": [
    "region_april = region_data[region_data[\"month\"] == 4]\n",
    "region_april = region_april[\"Day-Confirmed\"].values\n",
    "region_april"
   ]
  },
  {
   "cell_type": "markdown",
   "metadata": {},
   "source": [
    "**вновь воспользуемся Критерием Стьюдента для бутстрапированных выборок**"
   ]
  },
  {
   "cell_type": "code",
   "execution_count": 41,
   "metadata": {},
   "outputs": [],
   "source": [
    "moscow_distribution = []\n",
    "region_distribution = []\n",
    "\n",
    "for i in range(1000):\n",
    "    sample_moscow = resample(moscow_april, replace=True, n_samples=10, random_state=i)\n",
    "    sample_region = resample(region_april, replace=True, n_samples=10, random_state=i)\n",
    "    \n",
    "    moscow_distribution.append(np.mean(sample_moscow))\n",
    "    region_distribution.append(np.mean(sample_region))"
   ]
  },
  {
   "cell_type": "code",
   "execution_count": 42,
   "metadata": {},
   "outputs": [
    {
     "data": {
      "image/png": "[encoded data removed]",
      "text/plain": [
       "<Figure size 1008x216 with 2 Axes>"
      ]
     },
     "metadata": {
      "needs_background": "light"
     },
     "output_type": "display_data"
    }
   ],
   "source": [
    "fig = plt.figure(figsize=(14, 3))\n",
    "ax1 = plt.subplot(121)\n",
    "plt.hist(moscow_distribution, 100, alpha=0.8)\n",
    "\n",
    "ax1 = plt.subplot(122)\n",
    "plt.hist(region_distribution, 100, alpha=0.8, color = 'r')\n",
    "\n",
    "plt.show()"
   ]
  },
  {
   "cell_type": "code",
   "execution_count": 43,
   "metadata": {},
   "outputs": [
    {
     "data": {
      "text/plain": [
       "(0.38741394672749724, 0.6984910442180317)"
      ]
     },
     "execution_count": 43,
     "metadata": {},
     "output_type": "execute_result"
    }
   ],
   "source": [
    "t, p = stats.ttest_ind(moscow_distribution, region_distribution )  \n",
    "t, p"
   ]
  },
  {
   "cell_type": "markdown",
   "metadata": {},
   "source": [
    "**Так как вероятность вышла > 0.05, то мы не можем отклонить нашу гипотезу. Значит ежедневный прирост заболеваемости в Москве и в регионах в апреле совпадал**"
   ]
  },
  {
   "cell_type": "markdown",
   "metadata": {},
   "source": [
    "**Теперь воспользуемся непараметрическим критерием Манна-Уитни и проверим, совпадет ли результат**"
   ]
  },
  {
   "cell_type": "code",
   "execution_count": 44,
   "metadata": {},
   "outputs": [
    {
     "data": {
      "text/plain": [
       "MannwhitneyuResult(statistic=494893.0, pvalue=0.34625579034989734)"
      ]
     },
     "execution_count": 44,
     "metadata": {},
     "output_type": "execute_result"
    }
   ],
   "source": [
    "stats.mannwhitneyu(moscow_distribution, region_distribution)"
   ]
  },
  {
   "cell_type": "markdown",
   "metadata": {},
   "source": [
    "**Снова получили, что мы не можем отклонить гипотезу. Итак, суточный прирост новых случае заражения covid-19 совпадал в апреле в Москве и в регионах**"
   ]
  },
  {
   "cell_type": "markdown",
   "metadata": {},
   "source": [
    "**Гипотеза 3. Среднее число число заражений за сутки в июне и в июле в регионах России равно 6000** \n",
    "\n",
    "* H0 :  Среднее число число заражений за сутки равно 6000\n",
    "\n",
    "* H1 :  Среднее число число заражений за сутки не равно 6000"
   ]
  },
  {
   "cell_type": "code",
   "execution_count": 45,
   "metadata": {},
   "outputs": [
    {
     "data": {
      "text/plain": [
       "array([6738., 6577., 6694., 6833., 6871., 6863., 7028., 6984., 7023.,\n",
       "       7209., 7343., 7273., 7213., 7358., 6887., 6832., 6778., 6750.,\n",
       "       6836., 6832., 6760., 6532., 6344., 6365., 6228., 5987., 6102.,\n",
       "       6074., 5937., 5948., 5945., 6098., 6059., 5952., 6086., 5926.,\n",
       "       5739., 5941., 5941., 5998., 5933., 5936., 5865., 5635., 5794.,\n",
       "       5897., 5831., 5656., 5518., 5362., 5240., 5224., 5240., 5166.,\n",
       "       5223., 5082., 4941., 4721., 4804., 4831., 4787.])"
      ]
     },
     "execution_count": 45,
     "metadata": {},
     "output_type": "execute_result"
    }
   ],
   "source": [
    "mask = (region_data[\"month\"] == 6) | (region_data[\"month\"] == 7)\n",
    "\n",
    "june_and_july_region = region_data[mask][\"Day-Confirmed\"].values\n",
    "june_and_july_region"
   ]
  },
  {
   "cell_type": "markdown",
   "metadata": {},
   "source": [
    "**Для обоих критериев, которыми я буду пользоваться, нужна выборка с распределением, похожим на нормальное , значит используем bootstrap**"
   ]
  },
  {
   "cell_type": "code",
   "execution_count": 46,
   "metadata": {},
   "outputs": [],
   "source": [
    "june_and_july_region_distribution = []\n",
    "\n",
    "for i in range(1000):\n",
    "    sample = resample(june_and_july_region, replace=True, n_samples=10, random_state=i)\n",
    "    \n",
    "    june_and_july_region_distribution.append(np.mean(sample))"
   ]
  },
  {
   "cell_type": "markdown",
   "metadata": {},
   "source": [
    "**Воспользуемся критерием знаков рангов Уилкоксона**"
   ]
  },
  {
   "cell_type": "code",
   "execution_count": 47,
   "metadata": {},
   "outputs": [
    {
     "data": {
      "text/plain": [
       "WilcoxonResult(statistic=102350.0, pvalue=5.9819553971676225e-59)"
      ]
     },
     "execution_count": 47,
     "metadata": {},
     "output_type": "execute_result"
    }
   ],
   "source": [
    "m0 = 6000\n",
    "stats.wilcoxon(np.array(june_and_july_region_distribution) - m0)"
   ]
  },
  {
   "cell_type": "markdown",
   "metadata": {},
   "source": [
    "**Итак, согласно этому критерию мы не можем принять нулевую гипотезу**"
   ]
  },
  {
   "cell_type": "markdown",
   "metadata": {},
   "source": [
    "**Теперь воспользуемся одновыборочгым критерием Стьюдента**"
   ]
  },
  {
   "cell_type": "code",
   "execution_count": 48,
   "metadata": {},
   "outputs": [
    {
     "data": {
      "text/plain": [
       "Ttest_1sampResult(statistic=18.436563819396234, pvalue=1.4778385275669357e-65)"
      ]
     },
     "execution_count": 48,
     "metadata": {},
     "output_type": "execute_result"
    }
   ],
   "source": [
    "stats.ttest_1samp(a = june_and_july_region_distribution , popmean = m0)"
   ]
  },
  {
   "cell_type": "markdown",
   "metadata": {},
   "source": [
    "**Аналогичный результат. Принять нулевую гипотезу мы не можем**"
   ]
  },
  {
   "cell_type": "markdown",
   "metadata": {},
   "source": [
    "**Выводы**\n",
    "\n",
    "* Мы не можем принять гипотезу о том, что средняя смерность за сутки в июне и июле по регионам России совпадает\n",
    "* Мы не можем отклонить гипотезу о том, что ежедневный прирост заболевших в апреле совпадал в Москве и в регионах\n",
    "* Мы не можем принять гипотезу о том, что  среднее число зараженных за сутки равно 6000 в регионах в июне и июле"
   ]
  },
  {
   "cell_type": "markdown",
   "metadata": {},
   "source": [
    "# 5. Предсказание временного ряда"
   ]
  },
  {
   "cell_type": "markdown",
   "metadata": {},
   "source": [
    "**Сначала попробуем предсказать количество заражений на самую последнюю неделю июля - данные по ней у нас есть. Выберем, каким способом получается лучшее качество**\n",
    "**после чего построим предсказание на первую неделю августа**"
   ]
  },
  {
   "cell_type": "markdown",
   "metadata": {},
   "source": [
    "**1. Для Москвы** "
   ]
  },
  {
   "cell_type": "code",
   "execution_count": 49,
   "metadata": {},
   "outputs": [
    {
     "data": {
      "text/html": [
       "<div>\n",
       "<style scoped>\n",
       "    .dataframe tbody tr th:only-of-type {\n",
       "        vertical-align: middle;\n",
       "    }\n",
       "\n",
       "    .dataframe tbody tr th {\n",
       "        vertical-align: top;\n",
       "    }\n",
       "\n",
       "    .dataframe thead th {\n",
       "        text-align: right;\n",
       "    }\n",
       "</style>\n",
       "<table border=\"1\" class=\"dataframe\">\n",
       "  <thead>\n",
       "    <tr style=\"text-align: right;\">\n",
       "      <th></th>\n",
       "      <th>Date</th>\n",
       "      <th>Day-Confirmed</th>\n",
       "      <th>Day-Deaths</th>\n",
       "      <th>Day-Recovered</th>\n",
       "      <th>month</th>\n",
       "    </tr>\n",
       "  </thead>\n",
       "  <tbody>\n",
       "    <tr>\n",
       "      <th>0</th>\n",
       "      <td>2020-03-06</td>\n",
       "      <td>5.0</td>\n",
       "      <td>0.0</td>\n",
       "      <td>0.0</td>\n",
       "      <td>3</td>\n",
       "    </tr>\n",
       "    <tr>\n",
       "      <th>1</th>\n",
       "      <td>2020-03-07</td>\n",
       "      <td>0.0</td>\n",
       "      <td>0.0</td>\n",
       "      <td>0.0</td>\n",
       "      <td>3</td>\n",
       "    </tr>\n",
       "    <tr>\n",
       "      <th>2</th>\n",
       "      <td>2020-03-08</td>\n",
       "      <td>0.0</td>\n",
       "      <td>0.0</td>\n",
       "      <td>0.0</td>\n",
       "      <td>3</td>\n",
       "    </tr>\n",
       "    <tr>\n",
       "      <th>3</th>\n",
       "      <td>2020-03-09</td>\n",
       "      <td>3.0</td>\n",
       "      <td>0.0</td>\n",
       "      <td>0.0</td>\n",
       "      <td>3</td>\n",
       "    </tr>\n",
       "    <tr>\n",
       "      <th>4</th>\n",
       "      <td>2020-03-10</td>\n",
       "      <td>3.0</td>\n",
       "      <td>0.0</td>\n",
       "      <td>0.0</td>\n",
       "      <td>3</td>\n",
       "    </tr>\n",
       "    <tr>\n",
       "      <th>...</th>\n",
       "      <td>...</td>\n",
       "      <td>...</td>\n",
       "      <td>...</td>\n",
       "      <td>...</td>\n",
       "      <td>...</td>\n",
       "    </tr>\n",
       "    <tr>\n",
       "      <th>136</th>\n",
       "      <td>2020-07-20</td>\n",
       "      <td>578.0</td>\n",
       "      <td>15.0</td>\n",
       "      <td>379.0</td>\n",
       "      <td>7</td>\n",
       "    </tr>\n",
       "    <tr>\n",
       "      <th>137</th>\n",
       "      <td>2020-07-21</td>\n",
       "      <td>602.0</td>\n",
       "      <td>17.0</td>\n",
       "      <td>853.0</td>\n",
       "      <td>7</td>\n",
       "    </tr>\n",
       "    <tr>\n",
       "      <th>138</th>\n",
       "      <td>2020-07-22</td>\n",
       "      <td>638.0</td>\n",
       "      <td>19.0</td>\n",
       "      <td>1168.0</td>\n",
       "      <td>7</td>\n",
       "    </tr>\n",
       "    <tr>\n",
       "      <th>139</th>\n",
       "      <td>2020-07-23</td>\n",
       "      <td>608.0</td>\n",
       "      <td>14.0</td>\n",
       "      <td>453.0</td>\n",
       "      <td>7</td>\n",
       "    </tr>\n",
       "    <tr>\n",
       "      <th>140</th>\n",
       "      <td>2020-07-24</td>\n",
       "      <td>645.0</td>\n",
       "      <td>11.0</td>\n",
       "      <td>462.0</td>\n",
       "      <td>7</td>\n",
       "    </tr>\n",
       "  </tbody>\n",
       "</table>\n",
       "<p>141 rows × 5 columns</p>\n",
       "</div>"
      ],
      "text/plain": [
       "           Date  Day-Confirmed  Day-Deaths  Day-Recovered  month\n",
       "0    2020-03-06            5.0         0.0            0.0      3\n",
       "1    2020-03-07            0.0         0.0            0.0      3\n",
       "2    2020-03-08            0.0         0.0            0.0      3\n",
       "3    2020-03-09            3.0         0.0            0.0      3\n",
       "4    2020-03-10            3.0         0.0            0.0      3\n",
       "..          ...            ...         ...            ...    ...\n",
       "136  2020-07-20          578.0        15.0          379.0      7\n",
       "137  2020-07-21          602.0        17.0          853.0      7\n",
       "138  2020-07-22          638.0        19.0         1168.0      7\n",
       "139  2020-07-23          608.0        14.0          453.0      7\n",
       "140  2020-07-24          645.0        11.0          462.0      7\n",
       "\n",
       "[141 rows x 5 columns]"
      ]
     },
     "execution_count": 49,
     "metadata": {},
     "output_type": "execute_result"
    }
   ],
   "source": [
    "moscow_data_train = moscow_data.iloc[:-7:]\n",
    "moscow_data_train"
   ]
  },
  {
   "cell_type": "code",
   "execution_count": 50,
   "metadata": {},
   "outputs": [
    {
     "data": {
      "text/html": [
       "<div>\n",
       "<style scoped>\n",
       "    .dataframe tbody tr th:only-of-type {\n",
       "        vertical-align: middle;\n",
       "    }\n",
       "\n",
       "    .dataframe tbody tr th {\n",
       "        vertical-align: top;\n",
       "    }\n",
       "\n",
       "    .dataframe thead th {\n",
       "        text-align: right;\n",
       "    }\n",
       "</style>\n",
       "<table border=\"1\" class=\"dataframe\">\n",
       "  <thead>\n",
       "    <tr style=\"text-align: right;\">\n",
       "      <th></th>\n",
       "      <th>Date</th>\n",
       "      <th>Day-Confirmed</th>\n",
       "      <th>Day-Deaths</th>\n",
       "      <th>Day-Recovered</th>\n",
       "      <th>month</th>\n",
       "    </tr>\n",
       "  </thead>\n",
       "  <tbody>\n",
       "    <tr>\n",
       "      <th>141</th>\n",
       "      <td>2020-07-25</td>\n",
       "      <td>648.0</td>\n",
       "      <td>14.0</td>\n",
       "      <td>561.0</td>\n",
       "      <td>7</td>\n",
       "    </tr>\n",
       "    <tr>\n",
       "      <th>142</th>\n",
       "      <td>2020-07-26</td>\n",
       "      <td>683.0</td>\n",
       "      <td>9.0</td>\n",
       "      <td>306.0</td>\n",
       "      <td>7</td>\n",
       "    </tr>\n",
       "    <tr>\n",
       "      <th>143</th>\n",
       "      <td>2020-07-27</td>\n",
       "      <td>694.0</td>\n",
       "      <td>13.0</td>\n",
       "      <td>264.0</td>\n",
       "      <td>7</td>\n",
       "    </tr>\n",
       "    <tr>\n",
       "      <th>144</th>\n",
       "      <td>2020-07-28</td>\n",
       "      <td>674.0</td>\n",
       "      <td>10.0</td>\n",
       "      <td>827.0</td>\n",
       "      <td>7</td>\n",
       "    </tr>\n",
       "    <tr>\n",
       "      <th>145</th>\n",
       "      <td>2020-07-29</td>\n",
       "      <td>671.0</td>\n",
       "      <td>13.0</td>\n",
       "      <td>625.0</td>\n",
       "      <td>7</td>\n",
       "    </tr>\n",
       "    <tr>\n",
       "      <th>146</th>\n",
       "      <td>2020-07-30</td>\n",
       "      <td>678.0</td>\n",
       "      <td>12.0</td>\n",
       "      <td>1471.0</td>\n",
       "      <td>7</td>\n",
       "    </tr>\n",
       "    <tr>\n",
       "      <th>147</th>\n",
       "      <td>2020-07-31</td>\n",
       "      <td>695.0</td>\n",
       "      <td>14.0</td>\n",
       "      <td>1260.0</td>\n",
       "      <td>7</td>\n",
       "    </tr>\n",
       "  </tbody>\n",
       "</table>\n",
       "</div>"
      ],
      "text/plain": [
       "           Date  Day-Confirmed  Day-Deaths  Day-Recovered  month\n",
       "141  2020-07-25          648.0        14.0          561.0      7\n",
       "142  2020-07-26          683.0         9.0          306.0      7\n",
       "143  2020-07-27          694.0        13.0          264.0      7\n",
       "144  2020-07-28          674.0        10.0          827.0      7\n",
       "145  2020-07-29          671.0        13.0          625.0      7\n",
       "146  2020-07-30          678.0        12.0         1471.0      7\n",
       "147  2020-07-31          695.0        14.0         1260.0      7"
      ]
     },
     "execution_count": 50,
     "metadata": {},
     "output_type": "execute_result"
    }
   ],
   "source": [
    "moscow_data_val = moscow_data.iloc[-7::]\n",
    "moscow_data_val"
   ]
  },
  {
   "cell_type": "markdown",
   "metadata": {},
   "source": [
    "**Для начала попробуем экспоненциальное сглаживание**"
   ]
  },
  {
   "cell_type": "code",
   "execution_count": 51,
   "metadata": {},
   "outputs": [],
   "source": [
    "from statsmodels.tsa.api import ExponentialSmoothing, SimpleExpSmoothing, Holt"
   ]
  },
  {
   "cell_type": "code",
   "execution_count": 52,
   "metadata": {},
   "outputs": [],
   "source": [
    "from sklearn.metrics import mean_absolute_error"
   ]
  },
  {
   "cell_type": "code",
   "execution_count": 53,
   "metadata": {},
   "outputs": [],
   "source": [
    "res = []\n",
    "vals = moscow_data_train[\"Day-Confirmed\"].values \n",
    "sl = [0.02, 0.04, 0.06, 0.08, 0.12, 0.14, 0.16, 0.18, 0.2, 0.3, 0.4, 0.5, 0.6, 0.7, 0.8, 0.9]\n",
    "\n",
    "for s in sl:\n",
    "    fit = SimpleExpSmoothing(vals).fit(smoothing_level=s, optimized=False)\n",
    "    res.append(mean_absolute_error(fit.forecast(7), moscow_data_val[\"Day-Confirmed\"].values))"
   ]
  },
  {
   "cell_type": "code",
   "execution_count": 54,
   "metadata": {},
   "outputs": [
    {
     "data": {
      "text/plain": [
       "(3, 23.969819530562727)"
      ]
     },
     "execution_count": 54,
     "metadata": {},
     "output_type": "execute_result"
    }
   ],
   "source": [
    "ind = np.argmin(np.array(res))\n",
    "ind, res[ind]"
   ]
  },
  {
   "cell_type": "code",
   "execution_count": 55,
   "metadata": {},
   "outputs": [],
   "source": [
    "res = []\n",
    "vals = moscow_data_train[\"Day-Confirmed\"].values \n",
    "sl = [0.02, 0.04, 0.06, 0.08, 0.12, 0.14, 0.16, 0.18, 0.2, 0.3, 0.4, 0.5, 0.6, 0.7, 0.8, 0.9]\n",
    "ss = [0.02, 0.04, 0.06, 0.08, 0.12, 0.14, 0.16, 0.18, 0.2, 0.3, 0.4, 0.5, 0.6, 0.7, 0.8, 0.9]\n",
    "\n",
    "for s1 in ss:\n",
    "    for s2 in sl:\n",
    "        fit = Holt(vals).fit(smoothing_level = s2, smoothing_slope = s1)\n",
    "        res.append([s1,s2,mean_absolute_error(fit.forecast(7), moscow_data_val[\"Day-Confirmed\"].values)])"
   ]
  },
  {
   "cell_type": "code",
   "execution_count": 56,
   "metadata": {},
   "outputs": [
    {
     "data": {
      "text/plain": [
       "(143, [0.2, 0.9, 11.355356742784434])"
      ]
     },
     "execution_count": 56,
     "metadata": {},
     "output_type": "execute_result"
    }
   ],
   "source": [
    "res_score = list(map(lambda x: x[2], res))\n",
    "ind = np.argmin(np.array(res_score))\n",
    "ind, res[ind]"
   ]
  },
  {
   "cell_type": "markdown",
   "metadata": {},
   "source": [
    "**Итак, пока что самый лучший результат - двойное экспоненциальное сглаживание с параметрами smoothing_level = 0.9, smoothing_slope = 0.2)**"
   ]
  },
  {
   "cell_type": "code",
   "execution_count": 57,
   "metadata": {},
   "outputs": [
    {
     "data": {
      "text/plain": [
       "11.355356742784434"
      ]
     },
     "execution_count": 57,
     "metadata": {},
     "output_type": "execute_result"
    }
   ],
   "source": [
    "fit = Holt(vals).fit(smoothing_level = 0.9, smoothing_slope = 0.2)\n",
    "mean_absolute_error(fit.forecast(7), moscow_data_val[\"Day-Confirmed\"].values)"
   ]
  },
  {
   "cell_type": "markdown",
   "metadata": {},
   "source": [
    "**Теперь попробуем линейную модель**"
   ]
  },
  {
   "cell_type": "code",
   "execution_count": 58,
   "metadata": {},
   "outputs": [],
   "source": [
    "from sklearn.linear_model import LinearRegression"
   ]
  },
  {
   "cell_type": "code",
   "execution_count": 59,
   "metadata": {},
   "outputs": [
    {
     "data": {
      "text/html": [
       "<div>\n",
       "<style scoped>\n",
       "    .dataframe tbody tr th:only-of-type {\n",
       "        vertical-align: middle;\n",
       "    }\n",
       "\n",
       "    .dataframe tbody tr th {\n",
       "        vertical-align: top;\n",
       "    }\n",
       "\n",
       "    .dataframe thead th {\n",
       "        text-align: right;\n",
       "    }\n",
       "</style>\n",
       "<table border=\"1\" class=\"dataframe\">\n",
       "  <thead>\n",
       "    <tr style=\"text-align: right;\">\n",
       "      <th></th>\n",
       "      <th>Date</th>\n",
       "      <th>Day-Confirmed</th>\n",
       "      <th>Day-Deaths</th>\n",
       "      <th>Day-Recovered</th>\n",
       "      <th>month</th>\n",
       "      <th>label</th>\n",
       "    </tr>\n",
       "  </thead>\n",
       "  <tbody>\n",
       "    <tr>\n",
       "      <th>0</th>\n",
       "      <td>2020-03-06</td>\n",
       "      <td>5.0</td>\n",
       "      <td>0.0</td>\n",
       "      <td>0.0</td>\n",
       "      <td>3</td>\n",
       "      <td>train</td>\n",
       "    </tr>\n",
       "    <tr>\n",
       "      <th>1</th>\n",
       "      <td>2020-03-07</td>\n",
       "      <td>0.0</td>\n",
       "      <td>0.0</td>\n",
       "      <td>0.0</td>\n",
       "      <td>3</td>\n",
       "      <td>train</td>\n",
       "    </tr>\n",
       "    <tr>\n",
       "      <th>2</th>\n",
       "      <td>2020-03-08</td>\n",
       "      <td>0.0</td>\n",
       "      <td>0.0</td>\n",
       "      <td>0.0</td>\n",
       "      <td>3</td>\n",
       "      <td>train</td>\n",
       "    </tr>\n",
       "    <tr>\n",
       "      <th>3</th>\n",
       "      <td>2020-03-09</td>\n",
       "      <td>3.0</td>\n",
       "      <td>0.0</td>\n",
       "      <td>0.0</td>\n",
       "      <td>3</td>\n",
       "      <td>train</td>\n",
       "    </tr>\n",
       "    <tr>\n",
       "      <th>4</th>\n",
       "      <td>2020-03-10</td>\n",
       "      <td>3.0</td>\n",
       "      <td>0.0</td>\n",
       "      <td>0.0</td>\n",
       "      <td>3</td>\n",
       "      <td>train</td>\n",
       "    </tr>\n",
       "    <tr>\n",
       "      <th>...</th>\n",
       "      <td>...</td>\n",
       "      <td>...</td>\n",
       "      <td>...</td>\n",
       "      <td>...</td>\n",
       "      <td>...</td>\n",
       "      <td>...</td>\n",
       "    </tr>\n",
       "    <tr>\n",
       "      <th>143</th>\n",
       "      <td>2020-07-27</td>\n",
       "      <td>694.0</td>\n",
       "      <td>13.0</td>\n",
       "      <td>264.0</td>\n",
       "      <td>7</td>\n",
       "      <td>test</td>\n",
       "    </tr>\n",
       "    <tr>\n",
       "      <th>144</th>\n",
       "      <td>2020-07-28</td>\n",
       "      <td>674.0</td>\n",
       "      <td>10.0</td>\n",
       "      <td>827.0</td>\n",
       "      <td>7</td>\n",
       "      <td>test</td>\n",
       "    </tr>\n",
       "    <tr>\n",
       "      <th>145</th>\n",
       "      <td>2020-07-29</td>\n",
       "      <td>671.0</td>\n",
       "      <td>13.0</td>\n",
       "      <td>625.0</td>\n",
       "      <td>7</td>\n",
       "      <td>test</td>\n",
       "    </tr>\n",
       "    <tr>\n",
       "      <th>146</th>\n",
       "      <td>2020-07-30</td>\n",
       "      <td>678.0</td>\n",
       "      <td>12.0</td>\n",
       "      <td>1471.0</td>\n",
       "      <td>7</td>\n",
       "      <td>test</td>\n",
       "    </tr>\n",
       "    <tr>\n",
       "      <th>147</th>\n",
       "      <td>2020-07-31</td>\n",
       "      <td>695.0</td>\n",
       "      <td>14.0</td>\n",
       "      <td>1260.0</td>\n",
       "      <td>7</td>\n",
       "      <td>test</td>\n",
       "    </tr>\n",
       "  </tbody>\n",
       "</table>\n",
       "<p>148 rows × 6 columns</p>\n",
       "</div>"
      ],
      "text/plain": [
       "           Date  Day-Confirmed  Day-Deaths  Day-Recovered  month  label\n",
       "0    2020-03-06            5.0         0.0            0.0      3  train\n",
       "1    2020-03-07            0.0         0.0            0.0      3  train\n",
       "2    2020-03-08            0.0         0.0            0.0      3  train\n",
       "3    2020-03-09            3.0         0.0            0.0      3  train\n",
       "4    2020-03-10            3.0         0.0            0.0      3  train\n",
       "..          ...            ...         ...            ...    ...    ...\n",
       "143  2020-07-27          694.0        13.0          264.0      7   test\n",
       "144  2020-07-28          674.0        10.0          827.0      7   test\n",
       "145  2020-07-29          671.0        13.0          625.0      7   test\n",
       "146  2020-07-30          678.0        12.0         1471.0      7   test\n",
       "147  2020-07-31          695.0        14.0         1260.0      7   test\n",
       "\n",
       "[148 rows x 6 columns]"
      ]
     },
     "execution_count": 59,
     "metadata": {},
     "output_type": "execute_result"
    }
   ],
   "source": [
    "moscow_data_train[\"label\"] = \"train\"\n",
    "moscow_data_val[\"label\"] = \"test\"\n",
    "moscow_full = pd.concat([moscow_data_train, moscow_data_val])\n",
    "moscow_full"
   ]
  },
  {
   "cell_type": "code",
   "execution_count": 60,
   "metadata": {},
   "outputs": [],
   "source": [
    "features = []\n",
    "for period_mult in range(1,3,1):\n",
    "    moscow_full[\"lag_period_{}\".format(period_mult)] = moscow_full[\"Day-Confirmed\"].shift(period_mult)\n",
    "    features.append(\"lag_period_{}\".format(period_mult))\n",
    "\n",
    "\n",
    "moscow_full['lagf_mean'] = moscow_full[features].mean(axis = 1)\n",
    "\n",
    "features.extend(['lagf_mean'])"
   ]
  },
  {
   "cell_type": "code",
   "execution_count": 61,
   "metadata": {},
   "outputs": [
    {
     "data": {
      "text/html": [
       "<div>\n",
       "<style scoped>\n",
       "    .dataframe tbody tr th:only-of-type {\n",
       "        vertical-align: middle;\n",
       "    }\n",
       "\n",
       "    .dataframe tbody tr th {\n",
       "        vertical-align: top;\n",
       "    }\n",
       "\n",
       "    .dataframe thead th {\n",
       "        text-align: right;\n",
       "    }\n",
       "</style>\n",
       "<table border=\"1\" class=\"dataframe\">\n",
       "  <thead>\n",
       "    <tr style=\"text-align: right;\">\n",
       "      <th></th>\n",
       "      <th>Date</th>\n",
       "      <th>Day-Confirmed</th>\n",
       "      <th>Day-Deaths</th>\n",
       "      <th>Day-Recovered</th>\n",
       "      <th>month</th>\n",
       "      <th>label</th>\n",
       "      <th>lag_period_1</th>\n",
       "      <th>lag_period_2</th>\n",
       "      <th>lagf_mean</th>\n",
       "    </tr>\n",
       "  </thead>\n",
       "  <tbody>\n",
       "    <tr>\n",
       "      <th>0</th>\n",
       "      <td>2020-03-06</td>\n",
       "      <td>5.0</td>\n",
       "      <td>0.0</td>\n",
       "      <td>0.0</td>\n",
       "      <td>3</td>\n",
       "      <td>train</td>\n",
       "      <td>NaN</td>\n",
       "      <td>NaN</td>\n",
       "      <td>NaN</td>\n",
       "    </tr>\n",
       "    <tr>\n",
       "      <th>1</th>\n",
       "      <td>2020-03-07</td>\n",
       "      <td>0.0</td>\n",
       "      <td>0.0</td>\n",
       "      <td>0.0</td>\n",
       "      <td>3</td>\n",
       "      <td>train</td>\n",
       "      <td>5.0</td>\n",
       "      <td>NaN</td>\n",
       "      <td>5.0</td>\n",
       "    </tr>\n",
       "    <tr>\n",
       "      <th>2</th>\n",
       "      <td>2020-03-08</td>\n",
       "      <td>0.0</td>\n",
       "      <td>0.0</td>\n",
       "      <td>0.0</td>\n",
       "      <td>3</td>\n",
       "      <td>train</td>\n",
       "      <td>0.0</td>\n",
       "      <td>5.0</td>\n",
       "      <td>2.5</td>\n",
       "    </tr>\n",
       "    <tr>\n",
       "      <th>3</th>\n",
       "      <td>2020-03-09</td>\n",
       "      <td>3.0</td>\n",
       "      <td>0.0</td>\n",
       "      <td>0.0</td>\n",
       "      <td>3</td>\n",
       "      <td>train</td>\n",
       "      <td>0.0</td>\n",
       "      <td>0.0</td>\n",
       "      <td>0.0</td>\n",
       "    </tr>\n",
       "    <tr>\n",
       "      <th>4</th>\n",
       "      <td>2020-03-10</td>\n",
       "      <td>3.0</td>\n",
       "      <td>0.0</td>\n",
       "      <td>0.0</td>\n",
       "      <td>3</td>\n",
       "      <td>train</td>\n",
       "      <td>3.0</td>\n",
       "      <td>0.0</td>\n",
       "      <td>1.5</td>\n",
       "    </tr>\n",
       "    <tr>\n",
       "      <th>...</th>\n",
       "      <td>...</td>\n",
       "      <td>...</td>\n",
       "      <td>...</td>\n",
       "      <td>...</td>\n",
       "      <td>...</td>\n",
       "      <td>...</td>\n",
       "      <td>...</td>\n",
       "      <td>...</td>\n",
       "      <td>...</td>\n",
       "    </tr>\n",
       "    <tr>\n",
       "      <th>143</th>\n",
       "      <td>2020-07-27</td>\n",
       "      <td>694.0</td>\n",
       "      <td>13.0</td>\n",
       "      <td>264.0</td>\n",
       "      <td>7</td>\n",
       "      <td>test</td>\n",
       "      <td>683.0</td>\n",
       "      <td>648.0</td>\n",
       "      <td>665.5</td>\n",
       "    </tr>\n",
       "    <tr>\n",
       "      <th>144</th>\n",
       "      <td>2020-07-28</td>\n",
       "      <td>674.0</td>\n",
       "      <td>10.0</td>\n",
       "      <td>827.0</td>\n",
       "      <td>7</td>\n",
       "      <td>test</td>\n",
       "      <td>694.0</td>\n",
       "      <td>683.0</td>\n",
       "      <td>688.5</td>\n",
       "    </tr>\n",
       "    <tr>\n",
       "      <th>145</th>\n",
       "      <td>2020-07-29</td>\n",
       "      <td>671.0</td>\n",
       "      <td>13.0</td>\n",
       "      <td>625.0</td>\n",
       "      <td>7</td>\n",
       "      <td>test</td>\n",
       "      <td>674.0</td>\n",
       "      <td>694.0</td>\n",
       "      <td>684.0</td>\n",
       "    </tr>\n",
       "    <tr>\n",
       "      <th>146</th>\n",
       "      <td>2020-07-30</td>\n",
       "      <td>678.0</td>\n",
       "      <td>12.0</td>\n",
       "      <td>1471.0</td>\n",
       "      <td>7</td>\n",
       "      <td>test</td>\n",
       "      <td>671.0</td>\n",
       "      <td>674.0</td>\n",
       "      <td>672.5</td>\n",
       "    </tr>\n",
       "    <tr>\n",
       "      <th>147</th>\n",
       "      <td>2020-07-31</td>\n",
       "      <td>695.0</td>\n",
       "      <td>14.0</td>\n",
       "      <td>1260.0</td>\n",
       "      <td>7</td>\n",
       "      <td>test</td>\n",
       "      <td>678.0</td>\n",
       "      <td>671.0</td>\n",
       "      <td>674.5</td>\n",
       "    </tr>\n",
       "  </tbody>\n",
       "</table>\n",
       "<p>148 rows × 9 columns</p>\n",
       "</div>"
      ],
      "text/plain": [
       "           Date  Day-Confirmed  Day-Deaths  Day-Recovered  month  label  \\\n",
       "0    2020-03-06            5.0         0.0            0.0      3  train   \n",
       "1    2020-03-07            0.0         0.0            0.0      3  train   \n",
       "2    2020-03-08            0.0         0.0            0.0      3  train   \n",
       "3    2020-03-09            3.0         0.0            0.0      3  train   \n",
       "4    2020-03-10            3.0         0.0            0.0      3  train   \n",
       "..          ...            ...         ...            ...    ...    ...   \n",
       "143  2020-07-27          694.0        13.0          264.0      7   test   \n",
       "144  2020-07-28          674.0        10.0          827.0      7   test   \n",
       "145  2020-07-29          671.0        13.0          625.0      7   test   \n",
       "146  2020-07-30          678.0        12.0         1471.0      7   test   \n",
       "147  2020-07-31          695.0        14.0         1260.0      7   test   \n",
       "\n",
       "     lag_period_1  lag_period_2  lagf_mean  \n",
       "0             NaN           NaN        NaN  \n",
       "1             5.0           NaN        5.0  \n",
       "2             0.0           5.0        2.5  \n",
       "3             0.0           0.0        0.0  \n",
       "4             3.0           0.0        1.5  \n",
       "..            ...           ...        ...  \n",
       "143         683.0         648.0      665.5  \n",
       "144         694.0         683.0      688.5  \n",
       "145         674.0         694.0      684.0  \n",
       "146         671.0         674.0      672.5  \n",
       "147         678.0         671.0      674.5  \n",
       "\n",
       "[148 rows x 9 columns]"
      ]
     },
     "execution_count": 61,
     "metadata": {},
     "output_type": "execute_result"
    }
   ],
   "source": [
    "df = moscow_full\n",
    "df"
   ]
  },
  {
   "cell_type": "code",
   "execution_count": 62,
   "metadata": {},
   "outputs": [
    {
     "data": {
      "text/plain": [
       "23.246808091164798"
      ]
     },
     "execution_count": 62,
     "metadata": {},
     "output_type": "execute_result"
    }
   ],
   "source": [
    "model = LinearRegression()\n",
    "train_df = df[df.label == 'train'][features + ['Day-Confirmed']].dropna()\n",
    "test_df = df[df.label == 'test'][features]\n",
    "\n",
    "model.fit(train_df.drop('Day-Confirmed', axis = 1) ,train_df['Day-Confirmed'])\n",
    "forecast = model.predict(test_df)\n",
    "mean_absolute_error(forecast, moscow_data_val[\"Day-Confirmed\"].values)"
   ]
  },
  {
   "cell_type": "markdown",
   "metadata": {},
   "source": [
    "**Я попробовал разное число лаговых фичей  - и результат всегда получается хуже, чем при двойном экспоненциальном сглаживании. Поэтому буду использовать его**\n",
    "\n",
    "**Сделаем прогноз на первую неделю августа**"
   ]
  },
  {
   "cell_type": "code",
   "execution_count": 63,
   "metadata": {},
   "outputs": [
    {
     "data": {
      "text/plain": [
       "array([700.4767848 , 707.22295671, 713.96912862, 720.71530053,\n",
       "       727.46147244, 734.20764435, 740.95381626])"
      ]
     },
     "execution_count": 63,
     "metadata": {},
     "output_type": "execute_result"
    }
   ],
   "source": [
    "moscow_day_conf = moscow_data[\"Day-Confirmed\"].values\n",
    "fit = Holt(moscow_day_conf).fit(smoothing_level = 0.9, smoothing_slope = 0.2)\n",
    "fit.forecast(7)"
   ]
  },
  {
   "cell_type": "markdown",
   "metadata": {},
   "source": [
    "**2. Для регионов** "
   ]
  },
  {
   "cell_type": "code",
   "execution_count": 64,
   "metadata": {},
   "outputs": [
    {
     "data": {
      "text/html": [
       "<div>\n",
       "<style scoped>\n",
       "    .dataframe tbody tr th:only-of-type {\n",
       "        vertical-align: middle;\n",
       "    }\n",
       "\n",
       "    .dataframe tbody tr th {\n",
       "        vertical-align: top;\n",
       "    }\n",
       "\n",
       "    .dataframe thead th {\n",
       "        text-align: right;\n",
       "    }\n",
       "</style>\n",
       "<table border=\"1\" class=\"dataframe\">\n",
       "  <thead>\n",
       "    <tr style=\"text-align: right;\">\n",
       "      <th></th>\n",
       "      <th>Day-Confirmed</th>\n",
       "      <th>Day-Deaths</th>\n",
       "      <th>Day-Recovered</th>\n",
       "      <th>Date</th>\n",
       "      <th>month</th>\n",
       "    </tr>\n",
       "  </thead>\n",
       "  <tbody>\n",
       "    <tr>\n",
       "      <th>0</th>\n",
       "      <td>1.0</td>\n",
       "      <td>0.0</td>\n",
       "      <td>0.0</td>\n",
       "      <td>2020-03-06</td>\n",
       "      <td>3</td>\n",
       "    </tr>\n",
       "    <tr>\n",
       "      <th>1</th>\n",
       "      <td>4.0</td>\n",
       "      <td>0.0</td>\n",
       "      <td>0.0</td>\n",
       "      <td>2020-03-07</td>\n",
       "      <td>3</td>\n",
       "    </tr>\n",
       "    <tr>\n",
       "      <th>2</th>\n",
       "      <td>3.0</td>\n",
       "      <td>0.0</td>\n",
       "      <td>0.0</td>\n",
       "      <td>2020-03-08</td>\n",
       "      <td>3</td>\n",
       "    </tr>\n",
       "    <tr>\n",
       "      <th>3</th>\n",
       "      <td>0.0</td>\n",
       "      <td>0.0</td>\n",
       "      <td>0.0</td>\n",
       "      <td>2020-03-09</td>\n",
       "      <td>3</td>\n",
       "    </tr>\n",
       "    <tr>\n",
       "      <th>4</th>\n",
       "      <td>0.0</td>\n",
       "      <td>0.0</td>\n",
       "      <td>0.0</td>\n",
       "      <td>2020-03-10</td>\n",
       "      <td>3</td>\n",
       "    </tr>\n",
       "    <tr>\n",
       "      <th>...</th>\n",
       "      <td>...</td>\n",
       "      <td>...</td>\n",
       "      <td>...</td>\n",
       "      <td>...</td>\n",
       "      <td>...</td>\n",
       "    </tr>\n",
       "    <tr>\n",
       "      <th>136</th>\n",
       "      <td>5362.0</td>\n",
       "      <td>70.0</td>\n",
       "      <td>2879.0</td>\n",
       "      <td>2020-07-20</td>\n",
       "      <td>7</td>\n",
       "    </tr>\n",
       "    <tr>\n",
       "      <th>137</th>\n",
       "      <td>5240.0</td>\n",
       "      <td>136.0</td>\n",
       "      <td>7929.0</td>\n",
       "      <td>2020-07-21</td>\n",
       "      <td>7</td>\n",
       "    </tr>\n",
       "    <tr>\n",
       "      <th>138</th>\n",
       "      <td>5224.0</td>\n",
       "      <td>146.0</td>\n",
       "      <td>8777.0</td>\n",
       "      <td>2020-07-22</td>\n",
       "      <td>7</td>\n",
       "    </tr>\n",
       "    <tr>\n",
       "      <th>139</th>\n",
       "      <td>5240.0</td>\n",
       "      <td>133.0</td>\n",
       "      <td>7794.0</td>\n",
       "      <td>2020-07-23</td>\n",
       "      <td>7</td>\n",
       "    </tr>\n",
       "    <tr>\n",
       "      <th>140</th>\n",
       "      <td>5166.0</td>\n",
       "      <td>143.0</td>\n",
       "      <td>7944.0</td>\n",
       "      <td>2020-07-24</td>\n",
       "      <td>7</td>\n",
       "    </tr>\n",
       "  </tbody>\n",
       "</table>\n",
       "<p>141 rows × 5 columns</p>\n",
       "</div>"
      ],
      "text/plain": [
       "     Day-Confirmed  Day-Deaths  Day-Recovered        Date  month\n",
       "0              1.0         0.0            0.0  2020-03-06      3\n",
       "1              4.0         0.0            0.0  2020-03-07      3\n",
       "2              3.0         0.0            0.0  2020-03-08      3\n",
       "3              0.0         0.0            0.0  2020-03-09      3\n",
       "4              0.0         0.0            0.0  2020-03-10      3\n",
       "..             ...         ...            ...         ...    ...\n",
       "136         5362.0        70.0         2879.0  2020-07-20      7\n",
       "137         5240.0       136.0         7929.0  2020-07-21      7\n",
       "138         5224.0       146.0         8777.0  2020-07-22      7\n",
       "139         5240.0       133.0         7794.0  2020-07-23      7\n",
       "140         5166.0       143.0         7944.0  2020-07-24      7\n",
       "\n",
       "[141 rows x 5 columns]"
      ]
     },
     "execution_count": 64,
     "metadata": {},
     "output_type": "execute_result"
    }
   ],
   "source": [
    "region_data_train = region_data.iloc[:-7:]\n",
    "region_data_train"
   ]
  },
  {
   "cell_type": "code",
   "execution_count": 65,
   "metadata": {},
   "outputs": [
    {
     "data": {
      "text/html": [
       "<div>\n",
       "<style scoped>\n",
       "    .dataframe tbody tr th:only-of-type {\n",
       "        vertical-align: middle;\n",
       "    }\n",
       "\n",
       "    .dataframe tbody tr th {\n",
       "        vertical-align: top;\n",
       "    }\n",
       "\n",
       "    .dataframe thead th {\n",
       "        text-align: right;\n",
       "    }\n",
       "</style>\n",
       "<table border=\"1\" class=\"dataframe\">\n",
       "  <thead>\n",
       "    <tr style=\"text-align: right;\">\n",
       "      <th></th>\n",
       "      <th>Day-Confirmed</th>\n",
       "      <th>Day-Deaths</th>\n",
       "      <th>Day-Recovered</th>\n",
       "      <th>Date</th>\n",
       "      <th>month</th>\n",
       "    </tr>\n",
       "  </thead>\n",
       "  <tbody>\n",
       "    <tr>\n",
       "      <th>141</th>\n",
       "      <td>5223.0</td>\n",
       "      <td>132.0</td>\n",
       "      <td>7755.0</td>\n",
       "      <td>2020-07-25</td>\n",
       "      <td>7</td>\n",
       "    </tr>\n",
       "    <tr>\n",
       "      <th>142</th>\n",
       "      <td>5082.0</td>\n",
       "      <td>68.0</td>\n",
       "      <td>2749.0</td>\n",
       "      <td>2020-07-26</td>\n",
       "      <td>7</td>\n",
       "    </tr>\n",
       "    <tr>\n",
       "      <th>143</th>\n",
       "      <td>4941.0</td>\n",
       "      <td>72.0</td>\n",
       "      <td>2799.0</td>\n",
       "      <td>2020-07-27</td>\n",
       "      <td>7</td>\n",
       "    </tr>\n",
       "    <tr>\n",
       "      <th>144</th>\n",
       "      <td>4721.0</td>\n",
       "      <td>140.0</td>\n",
       "      <td>8042.0</td>\n",
       "      <td>2020-07-28</td>\n",
       "      <td>7</td>\n",
       "    </tr>\n",
       "    <tr>\n",
       "      <th>145</th>\n",
       "      <td>4804.0</td>\n",
       "      <td>156.0</td>\n",
       "      <td>7444.0</td>\n",
       "      <td>2020-07-29</td>\n",
       "      <td>7</td>\n",
       "    </tr>\n",
       "    <tr>\n",
       "      <th>146</th>\n",
       "      <td>4831.0</td>\n",
       "      <td>117.0</td>\n",
       "      <td>7839.0</td>\n",
       "      <td>2020-07-30</td>\n",
       "      <td>7</td>\n",
       "    </tr>\n",
       "    <tr>\n",
       "      <th>147</th>\n",
       "      <td>4787.0</td>\n",
       "      <td>147.0</td>\n",
       "      <td>7487.0</td>\n",
       "      <td>2020-07-31</td>\n",
       "      <td>7</td>\n",
       "    </tr>\n",
       "  </tbody>\n",
       "</table>\n",
       "</div>"
      ],
      "text/plain": [
       "     Day-Confirmed  Day-Deaths  Day-Recovered        Date  month\n",
       "141         5223.0       132.0         7755.0  2020-07-25      7\n",
       "142         5082.0        68.0         2749.0  2020-07-26      7\n",
       "143         4941.0        72.0         2799.0  2020-07-27      7\n",
       "144         4721.0       140.0         8042.0  2020-07-28      7\n",
       "145         4804.0       156.0         7444.0  2020-07-29      7\n",
       "146         4831.0       117.0         7839.0  2020-07-30      7\n",
       "147         4787.0       147.0         7487.0  2020-07-31      7"
      ]
     },
     "execution_count": 65,
     "metadata": {},
     "output_type": "execute_result"
    }
   ],
   "source": [
    "region_data_val = region_data.iloc[-7::]\n",
    "region_data_val"
   ]
  },
  {
   "cell_type": "markdown",
   "metadata": {},
   "source": [
    "**проведем аналогичные эксперименты, как в случае с Москвой и выберем лучший метод**"
   ]
  },
  {
   "cell_type": "code",
   "execution_count": 66,
   "metadata": {},
   "outputs": [],
   "source": [
    "res = []\n",
    "vals = region_data_train[\"Day-Confirmed\"].values \n",
    "sl = [0.02, 0.04, 0.06, 0.08, 0.12, 0.14, 0.16, 0.18, 0.2, 0.3, 0.4, 0.5, 0.6, 0.7, 0.8, 0.9]\n",
    "\n",
    "for s in sl:\n",
    "    fit = SimpleExpSmoothing(vals).fit(smoothing_level=s, optimized=False)\n",
    "    res.append(mean_absolute_error(fit.forecast(7), region_data_val[\"Day-Confirmed\"].values))"
   ]
  },
  {
   "cell_type": "code",
   "execution_count": 67,
   "metadata": {},
   "outputs": [
    {
     "data": {
      "text/plain": [
       "(0, 226.01720029432818)"
      ]
     },
     "execution_count": 67,
     "metadata": {},
     "output_type": "execute_result"
    }
   ],
   "source": [
    "ind = np.argmin(np.array(res))\n",
    "ind, res[ind]"
   ]
  },
  {
   "cell_type": "code",
   "execution_count": 68,
   "metadata": {},
   "outputs": [],
   "source": [
    "res = []\n",
    "vals = region_data_train[\"Day-Confirmed\"].values \n",
    "sl = [0.02, 0.04, 0.06, 0.08, 0.12, 0.14, 0.16, 0.18, 0.2, 0.3, 0.4, 0.5, 0.6, 0.7, 0.8, 0.9]\n",
    "ss = [0.02, 0.04, 0.06, 0.08, 0.12, 0.14, 0.16, 0.18, 0.2, 0.3, 0.4, 0.5, 0.6, 0.7, 0.8, 0.9]\n",
    "\n",
    "for s1 in ss:\n",
    "    for s2 in sl:\n",
    "        fit = Holt(vals).fit(smoothing_level = s2, smoothing_slope = s1)\n",
    "        res.append([s1,s2,mean_absolute_error(fit.forecast(7), region_data_val[\"Day-Confirmed\"].values)])"
   ]
  },
  {
   "cell_type": "code",
   "execution_count": 69,
   "metadata": {},
   "outputs": [
    {
     "data": {
      "text/plain": [
       "(89, [0.14, 0.3, 72.78629785838075])"
      ]
     },
     "execution_count": 69,
     "metadata": {},
     "output_type": "execute_result"
    }
   ],
   "source": [
    "res_score = list(map(lambda x: x[2], res))\n",
    "ind = np.argmin(np.array(res_score))\n",
    "ind, res[ind]"
   ]
  },
  {
   "cell_type": "code",
   "execution_count": 70,
   "metadata": {},
   "outputs": [
    {
     "data": {
      "text/html": [
       "<div>\n",
       "<style scoped>\n",
       "    .dataframe tbody tr th:only-of-type {\n",
       "        vertical-align: middle;\n",
       "    }\n",
       "\n",
       "    .dataframe tbody tr th {\n",
       "        vertical-align: top;\n",
       "    }\n",
       "\n",
       "    .dataframe thead th {\n",
       "        text-align: right;\n",
       "    }\n",
       "</style>\n",
       "<table border=\"1\" class=\"dataframe\">\n",
       "  <thead>\n",
       "    <tr style=\"text-align: right;\">\n",
       "      <th></th>\n",
       "      <th>Day-Confirmed</th>\n",
       "      <th>Day-Deaths</th>\n",
       "      <th>Day-Recovered</th>\n",
       "      <th>Date</th>\n",
       "      <th>month</th>\n",
       "      <th>label</th>\n",
       "    </tr>\n",
       "  </thead>\n",
       "  <tbody>\n",
       "    <tr>\n",
       "      <th>0</th>\n",
       "      <td>1.0</td>\n",
       "      <td>0.0</td>\n",
       "      <td>0.0</td>\n",
       "      <td>2020-03-06</td>\n",
       "      <td>3</td>\n",
       "      <td>train</td>\n",
       "    </tr>\n",
       "    <tr>\n",
       "      <th>1</th>\n",
       "      <td>4.0</td>\n",
       "      <td>0.0</td>\n",
       "      <td>0.0</td>\n",
       "      <td>2020-03-07</td>\n",
       "      <td>3</td>\n",
       "      <td>train</td>\n",
       "    </tr>\n",
       "    <tr>\n",
       "      <th>2</th>\n",
       "      <td>3.0</td>\n",
       "      <td>0.0</td>\n",
       "      <td>0.0</td>\n",
       "      <td>2020-03-08</td>\n",
       "      <td>3</td>\n",
       "      <td>train</td>\n",
       "    </tr>\n",
       "    <tr>\n",
       "      <th>3</th>\n",
       "      <td>0.0</td>\n",
       "      <td>0.0</td>\n",
       "      <td>0.0</td>\n",
       "      <td>2020-03-09</td>\n",
       "      <td>3</td>\n",
       "      <td>train</td>\n",
       "    </tr>\n",
       "    <tr>\n",
       "      <th>4</th>\n",
       "      <td>0.0</td>\n",
       "      <td>0.0</td>\n",
       "      <td>0.0</td>\n",
       "      <td>2020-03-10</td>\n",
       "      <td>3</td>\n",
       "      <td>train</td>\n",
       "    </tr>\n",
       "    <tr>\n",
       "      <th>...</th>\n",
       "      <td>...</td>\n",
       "      <td>...</td>\n",
       "      <td>...</td>\n",
       "      <td>...</td>\n",
       "      <td>...</td>\n",
       "      <td>...</td>\n",
       "    </tr>\n",
       "    <tr>\n",
       "      <th>143</th>\n",
       "      <td>4941.0</td>\n",
       "      <td>72.0</td>\n",
       "      <td>2799.0</td>\n",
       "      <td>2020-07-27</td>\n",
       "      <td>7</td>\n",
       "      <td>test</td>\n",
       "    </tr>\n",
       "    <tr>\n",
       "      <th>144</th>\n",
       "      <td>4721.0</td>\n",
       "      <td>140.0</td>\n",
       "      <td>8042.0</td>\n",
       "      <td>2020-07-28</td>\n",
       "      <td>7</td>\n",
       "      <td>test</td>\n",
       "    </tr>\n",
       "    <tr>\n",
       "      <th>145</th>\n",
       "      <td>4804.0</td>\n",
       "      <td>156.0</td>\n",
       "      <td>7444.0</td>\n",
       "      <td>2020-07-29</td>\n",
       "      <td>7</td>\n",
       "      <td>test</td>\n",
       "    </tr>\n",
       "    <tr>\n",
       "      <th>146</th>\n",
       "      <td>4831.0</td>\n",
       "      <td>117.0</td>\n",
       "      <td>7839.0</td>\n",
       "      <td>2020-07-30</td>\n",
       "      <td>7</td>\n",
       "      <td>test</td>\n",
       "    </tr>\n",
       "    <tr>\n",
       "      <th>147</th>\n",
       "      <td>4787.0</td>\n",
       "      <td>147.0</td>\n",
       "      <td>7487.0</td>\n",
       "      <td>2020-07-31</td>\n",
       "      <td>7</td>\n",
       "      <td>test</td>\n",
       "    </tr>\n",
       "  </tbody>\n",
       "</table>\n",
       "<p>148 rows × 6 columns</p>\n",
       "</div>"
      ],
      "text/plain": [
       "     Day-Confirmed  Day-Deaths  Day-Recovered        Date  month  label\n",
       "0              1.0         0.0            0.0  2020-03-06      3  train\n",
       "1              4.0         0.0            0.0  2020-03-07      3  train\n",
       "2              3.0         0.0            0.0  2020-03-08      3  train\n",
       "3              0.0         0.0            0.0  2020-03-09      3  train\n",
       "4              0.0         0.0            0.0  2020-03-10      3  train\n",
       "..             ...         ...            ...         ...    ...    ...\n",
       "143         4941.0        72.0         2799.0  2020-07-27      7   test\n",
       "144         4721.0       140.0         8042.0  2020-07-28      7   test\n",
       "145         4804.0       156.0         7444.0  2020-07-29      7   test\n",
       "146         4831.0       117.0         7839.0  2020-07-30      7   test\n",
       "147         4787.0       147.0         7487.0  2020-07-31      7   test\n",
       "\n",
       "[148 rows x 6 columns]"
      ]
     },
     "execution_count": 70,
     "metadata": {},
     "output_type": "execute_result"
    }
   ],
   "source": [
    "region_data_train[\"label\"] = \"train\"\n",
    "region_data_val[\"label\"] = \"test\"\n",
    "region_full = pd.concat([region_data_train, region_data_val])\n",
    "region_full"
   ]
  },
  {
   "cell_type": "code",
   "execution_count": 71,
   "metadata": {},
   "outputs": [],
   "source": [
    "features = []\n",
    "for period_mult in range(1,12,1):\n",
    "    region_full[\"lag_period_{}\".format(period_mult)] = region_full[\"Day-Confirmed\"].shift(period_mult)\n",
    "    features.append(\"lag_period_{}\".format(period_mult))\n",
    "\n",
    "\n",
    "region_full['lagf_mean'] = region_full[features].mean(axis = 1)\n",
    "\n",
    "features.extend(['lagf_mean'])"
   ]
  },
  {
   "cell_type": "code",
   "execution_count": 72,
   "metadata": {},
   "outputs": [
    {
     "data": {
      "text/html": [
       "<div>\n",
       "<style scoped>\n",
       "    .dataframe tbody tr th:only-of-type {\n",
       "        vertical-align: middle;\n",
       "    }\n",
       "\n",
       "    .dataframe tbody tr th {\n",
       "        vertical-align: top;\n",
       "    }\n",
       "\n",
       "    .dataframe thead th {\n",
       "        text-align: right;\n",
       "    }\n",
       "</style>\n",
       "<table border=\"1\" class=\"dataframe\">\n",
       "  <thead>\n",
       "    <tr style=\"text-align: right;\">\n",
       "      <th></th>\n",
       "      <th>Day-Confirmed</th>\n",
       "      <th>Day-Deaths</th>\n",
       "      <th>Day-Recovered</th>\n",
       "      <th>Date</th>\n",
       "      <th>month</th>\n",
       "      <th>label</th>\n",
       "      <th>lag_period_1</th>\n",
       "      <th>lag_period_2</th>\n",
       "      <th>lag_period_3</th>\n",
       "      <th>lag_period_4</th>\n",
       "      <th>lag_period_5</th>\n",
       "      <th>lag_period_6</th>\n",
       "      <th>lag_period_7</th>\n",
       "      <th>lag_period_8</th>\n",
       "      <th>lag_period_9</th>\n",
       "      <th>lag_period_10</th>\n",
       "      <th>lag_period_11</th>\n",
       "      <th>lagf_mean</th>\n",
       "    </tr>\n",
       "  </thead>\n",
       "  <tbody>\n",
       "    <tr>\n",
       "      <th>0</th>\n",
       "      <td>1.0</td>\n",
       "      <td>0.0</td>\n",
       "      <td>0.0</td>\n",
       "      <td>2020-03-06</td>\n",
       "      <td>3</td>\n",
       "      <td>train</td>\n",
       "      <td>NaN</td>\n",
       "      <td>NaN</td>\n",
       "      <td>NaN</td>\n",
       "      <td>NaN</td>\n",
       "      <td>NaN</td>\n",
       "      <td>NaN</td>\n",
       "      <td>NaN</td>\n",
       "      <td>NaN</td>\n",
       "      <td>NaN</td>\n",
       "      <td>NaN</td>\n",
       "      <td>NaN</td>\n",
       "      <td>NaN</td>\n",
       "    </tr>\n",
       "    <tr>\n",
       "      <th>1</th>\n",
       "      <td>4.0</td>\n",
       "      <td>0.0</td>\n",
       "      <td>0.0</td>\n",
       "      <td>2020-03-07</td>\n",
       "      <td>3</td>\n",
       "      <td>train</td>\n",
       "      <td>1.0</td>\n",
       "      <td>NaN</td>\n",
       "      <td>NaN</td>\n",
       "      <td>NaN</td>\n",
       "      <td>NaN</td>\n",
       "      <td>NaN</td>\n",
       "      <td>NaN</td>\n",
       "      <td>NaN</td>\n",
       "      <td>NaN</td>\n",
       "      <td>NaN</td>\n",
       "      <td>NaN</td>\n",
       "      <td>1.000000</td>\n",
       "    </tr>\n",
       "    <tr>\n",
       "      <th>2</th>\n",
       "      <td>3.0</td>\n",
       "      <td>0.0</td>\n",
       "      <td>0.0</td>\n",
       "      <td>2020-03-08</td>\n",
       "      <td>3</td>\n",
       "      <td>train</td>\n",
       "      <td>4.0</td>\n",
       "      <td>1.0</td>\n",
       "      <td>NaN</td>\n",
       "      <td>NaN</td>\n",
       "      <td>NaN</td>\n",
       "      <td>NaN</td>\n",
       "      <td>NaN</td>\n",
       "      <td>NaN</td>\n",
       "      <td>NaN</td>\n",
       "      <td>NaN</td>\n",
       "      <td>NaN</td>\n",
       "      <td>2.500000</td>\n",
       "    </tr>\n",
       "    <tr>\n",
       "      <th>3</th>\n",
       "      <td>0.0</td>\n",
       "      <td>0.0</td>\n",
       "      <td>0.0</td>\n",
       "      <td>2020-03-09</td>\n",
       "      <td>3</td>\n",
       "      <td>train</td>\n",
       "      <td>3.0</td>\n",
       "      <td>4.0</td>\n",
       "      <td>1.0</td>\n",
       "      <td>NaN</td>\n",
       "      <td>NaN</td>\n",
       "      <td>NaN</td>\n",
       "      <td>NaN</td>\n",
       "      <td>NaN</td>\n",
       "      <td>NaN</td>\n",
       "      <td>NaN</td>\n",
       "      <td>NaN</td>\n",
       "      <td>2.666667</td>\n",
       "    </tr>\n",
       "    <tr>\n",
       "      <th>4</th>\n",
       "      <td>0.0</td>\n",
       "      <td>0.0</td>\n",
       "      <td>0.0</td>\n",
       "      <td>2020-03-10</td>\n",
       "      <td>3</td>\n",
       "      <td>train</td>\n",
       "      <td>0.0</td>\n",
       "      <td>3.0</td>\n",
       "      <td>4.0</td>\n",
       "      <td>1.0</td>\n",
       "      <td>NaN</td>\n",
       "      <td>NaN</td>\n",
       "      <td>NaN</td>\n",
       "      <td>NaN</td>\n",
       "      <td>NaN</td>\n",
       "      <td>NaN</td>\n",
       "      <td>NaN</td>\n",
       "      <td>2.000000</td>\n",
       "    </tr>\n",
       "    <tr>\n",
       "      <th>...</th>\n",
       "      <td>...</td>\n",
       "      <td>...</td>\n",
       "      <td>...</td>\n",
       "      <td>...</td>\n",
       "      <td>...</td>\n",
       "      <td>...</td>\n",
       "      <td>...</td>\n",
       "      <td>...</td>\n",
       "      <td>...</td>\n",
       "      <td>...</td>\n",
       "      <td>...</td>\n",
       "      <td>...</td>\n",
       "      <td>...</td>\n",
       "      <td>...</td>\n",
       "      <td>...</td>\n",
       "      <td>...</td>\n",
       "      <td>...</td>\n",
       "      <td>...</td>\n",
       "    </tr>\n",
       "    <tr>\n",
       "      <th>143</th>\n",
       "      <td>4941.0</td>\n",
       "      <td>72.0</td>\n",
       "      <td>2799.0</td>\n",
       "      <td>2020-07-27</td>\n",
       "      <td>7</td>\n",
       "      <td>test</td>\n",
       "      <td>5082.0</td>\n",
       "      <td>5223.0</td>\n",
       "      <td>5166.0</td>\n",
       "      <td>5240.0</td>\n",
       "      <td>5224.0</td>\n",
       "      <td>5240.0</td>\n",
       "      <td>5362.0</td>\n",
       "      <td>5518.0</td>\n",
       "      <td>5656.0</td>\n",
       "      <td>5831.0</td>\n",
       "      <td>5897.0</td>\n",
       "      <td>5403.545455</td>\n",
       "    </tr>\n",
       "    <tr>\n",
       "      <th>144</th>\n",
       "      <td>4721.0</td>\n",
       "      <td>140.0</td>\n",
       "      <td>8042.0</td>\n",
       "      <td>2020-07-28</td>\n",
       "      <td>7</td>\n",
       "      <td>test</td>\n",
       "      <td>4941.0</td>\n",
       "      <td>5082.0</td>\n",
       "      <td>5223.0</td>\n",
       "      <td>5166.0</td>\n",
       "      <td>5240.0</td>\n",
       "      <td>5224.0</td>\n",
       "      <td>5240.0</td>\n",
       "      <td>5362.0</td>\n",
       "      <td>5518.0</td>\n",
       "      <td>5656.0</td>\n",
       "      <td>5831.0</td>\n",
       "      <td>5316.636364</td>\n",
       "    </tr>\n",
       "    <tr>\n",
       "      <th>145</th>\n",
       "      <td>4804.0</td>\n",
       "      <td>156.0</td>\n",
       "      <td>7444.0</td>\n",
       "      <td>2020-07-29</td>\n",
       "      <td>7</td>\n",
       "      <td>test</td>\n",
       "      <td>4721.0</td>\n",
       "      <td>4941.0</td>\n",
       "      <td>5082.0</td>\n",
       "      <td>5223.0</td>\n",
       "      <td>5166.0</td>\n",
       "      <td>5240.0</td>\n",
       "      <td>5224.0</td>\n",
       "      <td>5240.0</td>\n",
       "      <td>5362.0</td>\n",
       "      <td>5518.0</td>\n",
       "      <td>5656.0</td>\n",
       "      <td>5215.727273</td>\n",
       "    </tr>\n",
       "    <tr>\n",
       "      <th>146</th>\n",
       "      <td>4831.0</td>\n",
       "      <td>117.0</td>\n",
       "      <td>7839.0</td>\n",
       "      <td>2020-07-30</td>\n",
       "      <td>7</td>\n",
       "      <td>test</td>\n",
       "      <td>4804.0</td>\n",
       "      <td>4721.0</td>\n",
       "      <td>4941.0</td>\n",
       "      <td>5082.0</td>\n",
       "      <td>5223.0</td>\n",
       "      <td>5166.0</td>\n",
       "      <td>5240.0</td>\n",
       "      <td>5224.0</td>\n",
       "      <td>5240.0</td>\n",
       "      <td>5362.0</td>\n",
       "      <td>5518.0</td>\n",
       "      <td>5138.272727</td>\n",
       "    </tr>\n",
       "    <tr>\n",
       "      <th>147</th>\n",
       "      <td>4787.0</td>\n",
       "      <td>147.0</td>\n",
       "      <td>7487.0</td>\n",
       "      <td>2020-07-31</td>\n",
       "      <td>7</td>\n",
       "      <td>test</td>\n",
       "      <td>4831.0</td>\n",
       "      <td>4804.0</td>\n",
       "      <td>4721.0</td>\n",
       "      <td>4941.0</td>\n",
       "      <td>5082.0</td>\n",
       "      <td>5223.0</td>\n",
       "      <td>5166.0</td>\n",
       "      <td>5240.0</td>\n",
       "      <td>5224.0</td>\n",
       "      <td>5240.0</td>\n",
       "      <td>5362.0</td>\n",
       "      <td>5075.818182</td>\n",
       "    </tr>\n",
       "  </tbody>\n",
       "</table>\n",
       "<p>148 rows × 18 columns</p>\n",
       "</div>"
      ],
      "text/plain": [
       "     Day-Confirmed  Day-Deaths  Day-Recovered        Date  month  label  \\\n",
       "0              1.0         0.0            0.0  2020-03-06      3  train   \n",
       "1              4.0         0.0            0.0  2020-03-07      3  train   \n",
       "2              3.0         0.0            0.0  2020-03-08      3  train   \n",
       "3              0.0         0.0            0.0  2020-03-09      3  train   \n",
       "4              0.0         0.0            0.0  2020-03-10      3  train   \n",
       "..             ...         ...            ...         ...    ...    ...   \n",
       "143         4941.0        72.0         2799.0  2020-07-27      7   test   \n",
       "144         4721.0       140.0         8042.0  2020-07-28      7   test   \n",
       "145         4804.0       156.0         7444.0  2020-07-29      7   test   \n",
       "146         4831.0       117.0         7839.0  2020-07-30      7   test   \n",
       "147         4787.0       147.0         7487.0  2020-07-31      7   test   \n",
       "\n",
       "     lag_period_1  lag_period_2  lag_period_3  lag_period_4  lag_period_5  \\\n",
       "0             NaN           NaN           NaN           NaN           NaN   \n",
       "1             1.0           NaN           NaN           NaN           NaN   \n",
       "2             4.0           1.0           NaN           NaN           NaN   \n",
       "3             3.0           4.0           1.0           NaN           NaN   \n",
       "4             0.0           3.0           4.0           1.0           NaN   \n",
       "..            ...           ...           ...           ...           ...   \n",
       "143        5082.0        5223.0        5166.0        5240.0        5224.0   \n",
       "144        4941.0        5082.0        5223.0        5166.0        5240.0   \n",
       "145        4721.0        4941.0        5082.0        5223.0        5166.0   \n",
       "146        4804.0        4721.0        4941.0        5082.0        5223.0   \n",
       "147        4831.0        4804.0        4721.0        4941.0        5082.0   \n",
       "\n",
       "     lag_period_6  lag_period_7  lag_period_8  lag_period_9  lag_period_10  \\\n",
       "0             NaN           NaN           NaN           NaN            NaN   \n",
       "1             NaN           NaN           NaN           NaN            NaN   \n",
       "2             NaN           NaN           NaN           NaN            NaN   \n",
       "3             NaN           NaN           NaN           NaN            NaN   \n",
       "4             NaN           NaN           NaN           NaN            NaN   \n",
       "..            ...           ...           ...           ...            ...   \n",
       "143        5240.0        5362.0        5518.0        5656.0         5831.0   \n",
       "144        5224.0        5240.0        5362.0        5518.0         5656.0   \n",
       "145        5240.0        5224.0        5240.0        5362.0         5518.0   \n",
       "146        5166.0        5240.0        5224.0        5240.0         5362.0   \n",
       "147        5223.0        5166.0        5240.0        5224.0         5240.0   \n",
       "\n",
       "     lag_period_11    lagf_mean  \n",
       "0              NaN          NaN  \n",
       "1              NaN     1.000000  \n",
       "2              NaN     2.500000  \n",
       "3              NaN     2.666667  \n",
       "4              NaN     2.000000  \n",
       "..             ...          ...  \n",
       "143         5897.0  5403.545455  \n",
       "144         5831.0  5316.636364  \n",
       "145         5656.0  5215.727273  \n",
       "146         5518.0  5138.272727  \n",
       "147         5362.0  5075.818182  \n",
       "\n",
       "[148 rows x 18 columns]"
      ]
     },
     "execution_count": 72,
     "metadata": {},
     "output_type": "execute_result"
    }
   ],
   "source": [
    "df = region_full\n",
    "df"
   ]
  },
  {
   "cell_type": "code",
   "execution_count": 73,
   "metadata": {},
   "outputs": [
    {
     "data": {
      "text/plain": [
       "73.67646868312931"
      ]
     },
     "execution_count": 73,
     "metadata": {},
     "output_type": "execute_result"
    }
   ],
   "source": [
    "model = LinearRegression()\n",
    "train_df = df[df.label == 'train'][features + ['Day-Confirmed']].dropna()\n",
    "test_df = df[df.label == 'test'][features]\n",
    "\n",
    "model.fit(train_df.drop('Day-Confirmed', axis = 1) ,train_df['Day-Confirmed'])\n",
    "forecast = model.predict(test_df)\n",
    "mean_absolute_error(forecast, region_data_val[\"Day-Confirmed\"].values)"
   ]
  },
  {
   "cell_type": "markdown",
   "metadata": {},
   "source": [
    "**Для регионов лучший результат вновь получился с двойным экспоненциальным сглаживанием с параметрами 0.14 и 0.3 . Попробуем использовать его для предсказания на первую неделю августа**"
   ]
  },
  {
   "cell_type": "code",
   "execution_count": 74,
   "metadata": {},
   "outputs": [
    {
     "data": {
      "text/plain": [
       "array([4660.1441976 , 4596.30495163, 4532.46570567, 4468.62645971,\n",
       "       4404.78721375, 4340.94796779, 4277.10872183])"
      ]
     },
     "execution_count": 74,
     "metadata": {},
     "output_type": "execute_result"
    }
   ],
   "source": [
    "region_day_conf = region_data[\"Day-Confirmed\"].values\n",
    "fit = Holt(region_day_conf).fit(smoothing_level = 0.3, smoothing_slope = 0.14)\n",
    "fit.forecast(7)"
   ]
  },
  {
   "cell_type": "markdown",
   "metadata": {},
   "source": [
    "# 6. Выводы "
   ]
  },
  {
   "cell_type": "markdown",
   "metadata": {},
   "source": [
    "**Итак, проведено исследование статистики в первую волну пандемии в России. Можно сделать некоторые выводы**\n",
    "* В апреле рост заболеваемости в Москве был на уровне всех остальных регионов России вместе взятых\n",
    "* Несмотря на то, что суммарное из июнь и июль число смертей было равным, среднесуточный прирост все же был разный. \n",
    "* По предсказанию можно сделать вывод, что в начале августа заболеваемость в Москве должна была немного вырасти, а вот в регионах немного опуститься. \n",
    "* Пик в первую волну в Москве был в начале мая, после чего забоелваемость резко пошла на спад, в то время как в регионах пик наступил в начале июня, однако после этого не последовало такого же резкого падения, как в Москве\n",
    "* Смертность в Москве стала очень сильно падать после пика, а вот в регионах она продолжила расти даже после прохождения пика заболевамости\n"
   ]
  },
  {
   "cell_type": "code",
   "execution_count": null,
   "metadata": {},
   "outputs": [],
   "source": []
  }
 ],
 "metadata": {
  "kernelspec": {
   "display_name": "Python 3",
   "language": "python",
   "name": "python3"
  },
  "language_info": {
   "codemirror_mode": {
    "name": "ipython",
    "version": 3
   },
   "file_extension": ".py",
   "mimetype": "text/x-python",
   "name": "python",
   "nbconvert_exporter": "python",
   "pygments_lexer": "ipython3",
   "version": "3.8.6"
  }
 },
 "nbformat": 4,
 "nbformat_minor": 4
}
